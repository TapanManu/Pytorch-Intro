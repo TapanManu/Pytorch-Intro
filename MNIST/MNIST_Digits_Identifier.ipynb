{
  "nbformat": 4,
  "nbformat_minor": 0,
  "metadata": {
    "colab": {
      "name": "MNIST_Digits_Identifier.ipynb",
      "provenance": [],
      "authorship_tag": "ABX9TyP8VBpEy1MNGI+wiHC0yk7H",
      "include_colab_link": true
    },
    "kernelspec": {
      "name": "python3",
      "display_name": "Python 3"
    }
  },
  "cells": [
    {
      "cell_type": "markdown",
      "metadata": {
        "id": "view-in-github",
        "colab_type": "text"
      },
      "source": [
        "<a href=\"https://colab.research.google.com/github/TapanManu/Pytorch-Repo/blob/master/MNIST_Digits_Identifier.ipynb\" target=\"_parent\"><img src=\"https://colab.research.google.com/assets/colab-badge.svg\" alt=\"Open In Colab\"/></a>"
      ]
    },
    {
      "cell_type": "code",
      "metadata": {
        "id": "B4h-xgCDws7s",
        "colab_type": "code",
        "colab": {}
      },
      "source": [
        "from torchvision import datasets,transforms\n",
        "import torch\n",
        "from torch import nn\n",
        "import torch.nn.functional as F\n",
        "\n",
        "#define a transform to normalize the data\n",
        "transform = transforms.Compose([transforms.ToTensor(),\n",
        "                                transforms.Normalize([0.5],[0.5]),\n",
        "                                ])\n",
        "\n",
        "#downloading MNIST Dataset\n",
        "trainset = datasets.MNIST('MNIST_data/',download=True,train=True,transform=transform)\n",
        "trainloader=torch.utils.data.DataLoader(trainset,batch_size=64,shuffle=True)"
      ],
      "execution_count": 0,
      "outputs": []
    },
    {
      "cell_type": "code",
      "metadata": {
        "id": "PAWW83P2LtWr",
        "colab_type": "code",
        "colab": {}
      },
      "source": [
        "model = nn.Sequential(nn.Linear(784,128),\n",
        "                      nn.ReLU(),\n",
        "                      nn.Linear(128,64),\n",
        "                      nn.ReLU(),\n",
        "                      nn.Linear(64,10))\n",
        "\n",
        "#defining loss function\n",
        "criterion = nn.CrossEntropyLoss()"
      ],
      "execution_count": 0,
      "outputs": []
    },
    {
      "cell_type": "code",
      "metadata": {
        "id": "QztE2Hu30-mK",
        "colab_type": "code",
        "outputId": "76a61f40-6e17-439f-b0f4-72cbc6579a34",
        "colab": {
          "base_uri": "https://localhost:8080/",
          "height": 34
        }
      },
      "source": [
        "#neural network with 784 input units\n",
        "#128 hidden units in first layer\n",
        "#64 hidden units in second layer\n",
        "#10 output units\n",
        "#the input shape of each image is 28x28 \n",
        "#hence we need to flatten it into a vector/tensor\n",
        "dataiter = iter(trainloader)\n",
        "images,labels = dataiter.next()\n",
        "#print(images.shape)\n",
        "#print(labels.shape)\n",
        "features = images.view(images.shape[0],-1)\n",
        "\n",
        "#set logits\n",
        "logits = model(features)\n",
        "\n",
        "#set loss\n",
        "loss = criterion(logits,labels)\n",
        "\n",
        "print(loss)\n",
        "\n"
      ],
      "execution_count": 3,
      "outputs": [
        {
          "output_type": "stream",
          "text": [
            "tensor(2.2997, grad_fn=<NllLossBackward>)\n"
          ],
          "name": "stdout"
        }
      ]
    },
    {
      "cell_type": "code",
      "metadata": {
        "id": "THC11yU8Nf07",
        "colab_type": "code",
        "colab": {
          "base_uri": "https://localhost:8080/",
          "height": 34
        },
        "outputId": "724f4696-ee12-415a-d074-c5a48724b67c"
      },
      "source": [
        "soft_model = nn.Sequential(nn.Linear(784,128),\n",
        "                           nn.ReLU(),\n",
        "                           nn.Linear(128,64),\n",
        "                           nn.ReLU(),\n",
        "                           nn.Linear(64,10),\n",
        "                           nn.LogSoftmax(dim=1))\n",
        "\n",
        "loss_criterion = nn.NLLLoss()\n",
        "dataiter = iter(trainloader)\n",
        "images,labels = dataiter.next()\n",
        "#print(images.shape)\n",
        "#print(labels.shape)\n",
        "features = images.view(images.shape[0],-1)\n",
        "\n",
        "#set logits\n",
        "pred = model(features)\n",
        "\n",
        "#set loss\n",
        "loss = loss_criterion(pred,labels)\n",
        "\n",
        "print(loss)"
      ],
      "execution_count": 14,
      "outputs": [
        {
          "output_type": "stream",
          "text": [
            "tensor(-0.0153, grad_fn=<NllLossBackward>)\n"
          ],
          "name": "stdout"
        }
      ]
    },
    {
      "cell_type": "code",
      "metadata": {
        "id": "PKpOq16lQ6yF",
        "colab_type": "code",
        "colab": {
          "base_uri": "https://localhost:8080/",
          "height": 52
        },
        "outputId": "b80d7b04-50e1-4270-80d5-4a9007fca11e"
      },
      "source": [
        "print('before backward pass',loss.grad)\n",
        "loss.backward()\n",
        "print('after backward pass',loss.grad)"
      ],
      "execution_count": 15,
      "outputs": [
        {
          "output_type": "stream",
          "text": [
            "before backward pass None\n",
            "after backward pass None\n"
          ],
          "name": "stdout"
        }
      ]
    },
    {
      "cell_type": "code",
      "metadata": {
        "id": "hyVVs1SBVAe1",
        "colab_type": "code",
        "colab": {}
      },
      "source": [
        "from torch import optim\n",
        "optimizer = optim.SGD(soft_model.parameters(),lr=0.01)"
      ],
      "execution_count": 0,
      "outputs": []
    },
    {
      "cell_type": "code",
      "metadata": {
        "id": "Uo3j-Xe3VO-k",
        "colab_type": "code",
        "colab": {
          "base_uri": "https://localhost:8080/",
          "height": 208
        },
        "outputId": "246d1680-9609-4bba-a335-5e7a75e2aa3b"
      },
      "source": [
        "print('initial weights',soft_model[0].weight)\n",
        "images,labels = next(iter(trainloader))\n",
        "images.resize_(64,784)\n",
        "\n",
        "optimizer.zero_grad()\n",
        "\n",
        "output = soft_model.forward(images)\n",
        "loss = loss_criterion(output,labels)\n",
        "print(loss)\n",
        "\n",
        "print('Gradient',soft_model[0].weight.grad)"
      ],
      "execution_count": 18,
      "outputs": [
        {
          "output_type": "stream",
          "text": [
            "initial weights Parameter containing:\n",
            "tensor([[ 0.0316,  0.0186, -0.0225,  ..., -0.0253, -0.0034, -0.0338],\n",
            "        [ 0.0243,  0.0326, -0.0355,  ..., -0.0138, -0.0292, -0.0096],\n",
            "        [ 0.0237, -0.0324,  0.0212,  ...,  0.0178, -0.0174, -0.0276],\n",
            "        ...,\n",
            "        [ 0.0272, -0.0149,  0.0218,  ..., -0.0276, -0.0294,  0.0142],\n",
            "        [-0.0189, -0.0172, -0.0098,  ...,  0.0196, -0.0119, -0.0032],\n",
            "        [-0.0355, -0.0042,  0.0034,  ...,  0.0024, -0.0333, -0.0008]],\n",
            "       requires_grad=True)\n",
            "tensor(2.3084, grad_fn=<NllLossBackward>)\n",
            "Gradient None\n"
          ],
          "name": "stdout"
        }
      ]
    },
    {
      "cell_type": "code",
      "metadata": {
        "id": "KN8aWKT5Wvrk",
        "colab_type": "code",
        "colab": {
          "base_uri": "https://localhost:8080/",
          "height": 243
        },
        "outputId": "9d0ef7bd-9676-4567-b597-e5ef41715af5"
      },
      "source": [
        "loss.backward()\n",
        "print('Gradient',soft_model[0].weight.grad)"
      ],
      "execution_count": 19,
      "outputs": [
        {
          "output_type": "stream",
          "text": [
            "Gradient tensor([[ 0.0000e+00,  0.0000e+00,  0.0000e+00,  ...,  0.0000e+00,\n",
            "          0.0000e+00,  0.0000e+00],\n",
            "        [-4.2371e-03, -4.2371e-03, -4.2371e-03,  ..., -4.2371e-03,\n",
            "         -4.2371e-03, -4.2371e-03],\n",
            "        [-4.4004e-03, -4.4004e-03, -4.4004e-03,  ..., -4.4004e-03,\n",
            "         -4.4004e-03, -4.4004e-03],\n",
            "        ...,\n",
            "        [-5.3569e-04, -5.3569e-04, -5.3569e-04,  ..., -5.3569e-04,\n",
            "         -5.3569e-04, -5.3569e-04],\n",
            "        [-9.6756e-05, -9.6756e-05, -9.6756e-05,  ..., -9.6756e-05,\n",
            "         -9.6756e-05, -9.6756e-05],\n",
            "        [ 2.4162e-04,  2.4162e-04,  2.4162e-04,  ...,  2.4162e-04,\n",
            "          2.4162e-04,  2.4162e-04]])\n"
          ],
          "name": "stdout"
        }
      ]
    },
    {
      "cell_type": "code",
      "metadata": {
        "id": "DOLM5cW3W16w",
        "colab_type": "code",
        "colab": {
          "base_uri": "https://localhost:8080/",
          "height": 173
        },
        "outputId": "744895a0-3264-480f-e7a0-4a998d9f86ef"
      },
      "source": [
        "optimizer.step()\n",
        "print('updated weights',soft_model[0].weight)"
      ],
      "execution_count": 20,
      "outputs": [
        {
          "output_type": "stream",
          "text": [
            "updated weights Parameter containing:\n",
            "tensor([[ 0.0316,  0.0186, -0.0225,  ..., -0.0253, -0.0034, -0.0338],\n",
            "        [ 0.0243,  0.0326, -0.0355,  ..., -0.0138, -0.0292, -0.0096],\n",
            "        [ 0.0237, -0.0323,  0.0213,  ...,  0.0179, -0.0174, -0.0276],\n",
            "        ...,\n",
            "        [ 0.0272, -0.0149,  0.0218,  ..., -0.0276, -0.0294,  0.0142],\n",
            "        [-0.0189, -0.0172, -0.0098,  ...,  0.0196, -0.0119, -0.0032],\n",
            "        [-0.0355, -0.0042,  0.0034,  ...,  0.0024, -0.0333, -0.0008]],\n",
            "       requires_grad=True)\n"
          ],
          "name": "stdout"
        }
      ]
    },
    {
      "cell_type": "code",
      "metadata": {
        "id": "gLFG_wahXDx2",
        "colab_type": "code",
        "colab": {
          "base_uri": "https://localhost:8080/",
          "height": 104
        },
        "outputId": "5a48cef8-f7de-4545-d139-90445cc47e3d"
      },
      "source": [
        "model = nn.Sequential(nn.Linear(784,128),\n",
        "                      nn.ReLU(),\n",
        "                      nn.Linear(128,64),\n",
        "                      nn.ReLU(),\n",
        "                      nn.Linear(64,10),\n",
        "                      nn.LogSoftmax(dim=1))\n",
        "criterion=nn.NLLLoss()\n",
        "optimizer = optim.SGD(model.parameters(),lr=0.004)\n",
        "\n",
        "epochs=5\n",
        "for e in range(epochs):\n",
        "  running_loss=0\n",
        "  #optimizer.zero_grad() => it's not correct,pls don't do this mistake\n",
        "  for images,labels in trainloader:\n",
        "    images = images.view(images.shape[0],-1)\n",
        "    output = model(images)\n",
        "    #or use model.forward(images)\n",
        "    optimizer.zero_grad()\n",
        "    loss =  criterion(output,labels)\n",
        "    loss.backward()\n",
        "    optimizer.step()\n",
        "    running_loss+=loss.item()\n",
        "  else:\n",
        "    print('loss:',running_loss/len(trainloader))"
      ],
      "execution_count": 27,
      "outputs": [
        {
          "output_type": "stream",
          "text": [
            "loss: 1.7773299358292682\n",
            "loss: 0.6788167187145778\n",
            "loss: 0.45815638036552525\n",
            "loss: 0.3904509779963412\n",
            "loss: 0.35545766543446067\n"
          ],
          "name": "stdout"
        }
      ]
    },
    {
      "cell_type": "code",
      "metadata": {
        "id": "QXPU5csYfKeH",
        "colab_type": "code",
        "colab": {
          "base_uri": "https://localhost:8080/",
          "height": 34
        },
        "outputId": "cd4332d2-d550-48a1-e65b-27a1f24c3fac"
      },
      "source": [
        "import matplotlib.pyplot as plt\n",
        "import numpy as np\n",
        "def view_classify(img, ps, version=\"MNIST\"):\n",
        "    ''' Function for viewing an image and it's predicted classes.\n",
        "    '''\n",
        "    ps = ps.data.numpy().squeeze()\n",
        "\n",
        "    fig, (ax1, ax2) = plt.subplots(figsize=(6,9), ncols=2)\n",
        "    ax1.imshow(img.resize_(1, 28, 28).numpy().squeeze())\n",
        "    ax1.axis('off')\n",
        "    ax2.barh(np.arange(10), ps)\n",
        "    ax2.set_aspect(0.1)\n",
        "    ax2.set_yticks(np.arange(10))\n",
        "    if version == \"MNIST\":\n",
        "        ax2.set_yticklabels(np.arange(10))\n",
        "    elif version == \"Fashion\":\n",
        "        ax2.set_yticklabels(['T-shirt/top',\n",
        "                            'Trouser',\n",
        "                            'Pullover',\n",
        "                            'Dress',\n",
        "                            'Coat',\n",
        "                            'Sandal',\n",
        "                            'Shirt',\n",
        "                            'Sneaker',\n",
        "                            'Bag',\n",
        "                            'Ankle Boot'], size='small');\n",
        "    ax2.set_title('Class Probability')\n",
        "    ax2.set_xlim(0, 1.1)\n",
        "\n",
        "plt.tight_layout()"
      ],
      "execution_count": 32,
      "outputs": [
        {
          "output_type": "display_data",
          "data": {
            "text/plain": [
              "<Figure size 432x288 with 0 Axes>"
            ]
          },
          "metadata": {
            "tags": []
          }
        }
      ]
    },
    {
      "cell_type": "code",
      "metadata": {
        "id": "8J8vkd-BdowO",
        "colab_type": "code",
        "colab": {
          "base_uri": "https://localhost:8080/",
          "height": 213
        },
        "outputId": "0b327369-6c68-48f9-9b7c-17efada1d5aa"
      },
      "source": [
        "%matplotlib inline\n",
        "\n",
        "\n",
        "images,labels = next(iter(trainloader))\n",
        "img = images[63].view(1,784)\n",
        "\n",
        "#turn off gradients to speed up this part\n",
        "with torch.no_grad():\n",
        "  logits = model.forward(img)\n",
        "\n",
        "ps =F.softmax(logits,dim=1)\n",
        "view_classify(img.view(1,28,28),ps)\n",
        "\n"
      ],
      "execution_count": 37,
      "outputs": [
        {
          "output_type": "display_data",
          "data": {
            "image/png": "[encoded data removed]",
            "text/plain": [
              "<Figure size 432x648 with 2 Axes>"
            ]
          },
          "metadata": {
            "tags": []
          }
        }
      ]
    },
    {
      "cell_type": "markdown",
      "metadata": {
        "id": "gDl73he6PmFi",
        "colab_type": "text"
      },
      "source": [
        "Scratch Code\n",
        "Just to demonstrate working!"
      ]
    },
    {
      "cell_type": "code",
      "metadata": {
        "id": "pX5Omm4Z640K",
        "colab_type": "code",
        "colab": {}
      },
      "source": [
        "def activation(x):\n",
        "  return 1/(1+torch.exp(-x))"
      ],
      "execution_count": 0,
      "outputs": []
    },
    {
      "cell_type": "code",
      "metadata": {
        "id": "-OvyVJo15_yP",
        "colab_type": "code",
        "outputId": "33749278-886b-41d3-f61f-b2d44fc383a2",
        "colab": {
          "base_uri": "https://localhost:8080/",
          "height": 34
        }
      },
      "source": [
        "W1 = torch.randn((784,256))\n",
        "B1 = torch.randn((1,256))\n",
        "W2 = torch.randn((256,10))\n",
        "B2 = torch.randn((1,10))\n",
        "h = activation(torch.mm(features,W1)+B1)\n",
        "out = activation(torch.mm(h,W2)+B2)\n",
        "print(out.shape)"
      ],
      "execution_count": 7,
      "outputs": [
        {
          "output_type": "stream",
          "text": [
            "torch.Size([64, 10])\n"
          ],
          "name": "stdout"
        }
      ]
    },
    {
      "cell_type": "code",
      "metadata": {
        "id": "GHKpzdWI9m_S",
        "colab_type": "code",
        "colab": {}
      },
      "source": [
        "def softmax(output):\n",
        "  return torch.exp(output)/torch.sum(torch.exp(output),dim=1).view(-1,1)"
      ],
      "execution_count": 0,
      "outputs": []
    },
    {
      "cell_type": "code",
      "metadata": {
        "id": "5lJ4e8Tf-R7t",
        "colab_type": "code",
        "outputId": "c7c083bc-9587-46ff-87cd-a7e8a8b346d0",
        "colab": {
          "base_uri": "https://localhost:8080/",
          "height": 34
        }
      },
      "source": [
        "prob=softmax(out)\n",
        "prob.shape"
      ],
      "execution_count": 9,
      "outputs": [
        {
          "output_type": "execute_result",
          "data": {
            "text/plain": [
              "torch.Size([64, 10])"
            ]
          },
          "metadata": {
            "tags": []
          },
          "execution_count": 9
        }
      ]
    }
  ]
}
