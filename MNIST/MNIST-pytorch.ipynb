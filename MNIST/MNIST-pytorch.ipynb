{
  "nbformat": 4,
  "nbformat_minor": 0,
  "metadata": {
    "colab": {
      "name": "logisticreg.ipynb",
      "provenance": [],
      "collapsed_sections": [],
      "include_colab_link": true
    },
    "kernelspec": {
      "name": "python3",
      "display_name": "Python 3"
    }
  },
  "cells": [
    {
      "cell_type": "markdown",
      "metadata": {
        "id": "view-in-github",
        "colab_type": "text"
      },
      "source": [
        "<a href=\"https://colab.research.google.com/github/TapanManu/Pytorch-Intro/blob/master/MNIST-pytorch.ipynb\" target=\"_parent\"><img src=\"https://colab.research.google.com/assets/colab-badge.svg\" alt=\"Open In Colab\"/></a>"
      ]
    },
    {
      "cell_type": "code",
      "metadata": {
        "id": "ZTVzcoKNqjFO",
        "colab_type": "code",
        "colab": {}
      },
      "source": [
        "import torch\n",
        "import torchvision\n",
        "from torchvision.datasets import MNIST\n"
      ],
      "execution_count": 0,
      "outputs": []
    },
    {
      "cell_type": "code",
      "metadata": {
        "id": "RgJ-GhHDt1U2",
        "colab_type": "code",
        "colab": {}
      },
      "source": [
        "#download training datadset\n",
        "dataset=MNIST(root='data/',download=True)"
      ],
      "execution_count": 0,
      "outputs": []
    },
    {
      "cell_type": "code",
      "metadata": {
        "id": "GD4mmbkzuIDz",
        "colab_type": "code",
        "outputId": "7eedaf02-769e-41ba-b470-91d45715d82e",
        "colab": {
          "base_uri": "https://localhost:8080/",
          "height": 34
        }
      },
      "source": [
        "len(dataset)"
      ],
      "execution_count": 0,
      "outputs": [
        {
          "output_type": "execute_result",
          "data": {
            "text/plain": [
              "60000"
            ]
          },
          "metadata": {
            "tags": []
          },
          "execution_count": 72
        }
      ]
    },
    {
      "cell_type": "code",
      "metadata": {
        "id": "x6YnzrGKuMjW",
        "colab_type": "code",
        "outputId": "bc5da446-b7ef-4862-cb8f-f548982b8981",
        "colab": {
          "base_uri": "https://localhost:8080/",
          "height": 34
        }
      },
      "source": [
        "test_dataset=MNIST(root='data/',train=False)\n",
        "len(test_dataset)"
      ],
      "execution_count": 0,
      "outputs": [
        {
          "output_type": "execute_result",
          "data": {
            "text/plain": [
              "10000"
            ]
          },
          "metadata": {
            "tags": []
          },
          "execution_count": 73
        }
      ]
    },
    {
      "cell_type": "code",
      "metadata": {
        "id": "1SrtvGJqub0c",
        "colab_type": "code",
        "outputId": "97dc4342-6790-47b6-b645-c7d6155e00aa",
        "colab": {
          "base_uri": "https://localhost:8080/",
          "height": 34
        }
      },
      "source": [
        "print(dataset[0])"
      ],
      "execution_count": 0,
      "outputs": [
        {
          "output_type": "stream",
          "text": [
            "(<PIL.Image.Image image mode=L size=28x28 at 0x7F99CB9499E8>, 5)\n"
          ],
          "name": "stdout"
        }
      ]
    },
    {
      "cell_type": "code",
      "metadata": {
        "id": "1-BrEkX4uitk",
        "colab_type": "code",
        "colab": {}
      },
      "source": [
        "import matplotlib.pyplot as plt\n",
        "%matplotlib inline\n"
      ],
      "execution_count": 0,
      "outputs": []
    },
    {
      "cell_type": "code",
      "metadata": {
        "id": "4azVNAUlu3mk",
        "colab_type": "code",
        "outputId": "02742ef9-a355-4a5b-c851-df74dcdf0ffd",
        "colab": {
          "base_uri": "https://localhost:8080/",
          "height": 286
        }
      },
      "source": [
        "image,label=dataset[0]\n",
        "plt.imshow(image)\n",
        "print(\"label:\",label)\n",
        "\n"
      ],
      "execution_count": 0,
      "outputs": [
        {
          "output_type": "stream",
          "text": [
            "label: 5\n"
          ],
          "name": "stdout"
        },
        {
          "output_type": "display_data",
          "data": {
            "image/png": "[encoded data removed]",
            "text/plain": [
              "<Figure size 432x288 with 1 Axes>"
            ]
          },
          "metadata": {
            "tags": []
          }
        }
      ]
    },
    {
      "cell_type": "code",
      "metadata": {
        "id": "71xs8jEjvb_x",
        "colab_type": "code",
        "outputId": "0ee0021c-e847-4163-a276-b1a2f49747b2",
        "colab": {
          "base_uri": "https://localhost:8080/",
          "height": 286
        }
      },
      "source": [
        "image,label=dataset[10]\n",
        "plt.imshow(image)\n",
        "print(\"label:\",label)\n"
      ],
      "execution_count": 0,
      "outputs": [
        {
          "output_type": "stream",
          "text": [
            "label: 3\n"
          ],
          "name": "stdout"
        },
        {
          "output_type": "display_data",
          "data": {
            "image/png": "[encoded data removed]",
            "text/plain": [
              "<Figure size 432x288 with 1 Axes>"
            ]
          },
          "metadata": {
            "tags": []
          }
        }
      ]
    },
    {
      "cell_type": "code",
      "metadata": {
        "id": "wdU14IYwwRSJ",
        "colab_type": "code",
        "colab": {}
      },
      "source": [
        "#converting images into tensors\n",
        "import torchvision.transforms as transforms"
      ],
      "execution_count": 0,
      "outputs": []
    },
    {
      "cell_type": "code",
      "metadata": {
        "id": "5IdEKVOvwieX",
        "colab_type": "code",
        "colab": {}
      },
      "source": [
        "dataset=MNIST(root='data/',train=True,transform=transforms.ToTensor())"
      ],
      "execution_count": 0,
      "outputs": []
    },
    {
      "cell_type": "code",
      "metadata": {
        "id": "dScyfrBmwx6V",
        "colab_type": "code",
        "outputId": "d74aa6cb-3c2c-4cb7-aa24-ce25f9278789",
        "colab": {
          "base_uri": "https://localhost:8080/",
          "height": 34
        }
      },
      "source": [
        "img_tensor,label=dataset[0]\n",
        "print(img_tensor.shape,label)"
      ],
      "execution_count": 0,
      "outputs": [
        {
          "output_type": "stream",
          "text": [
            "torch.Size([1, 28, 28]) 5\n"
          ],
          "name": "stdout"
        }
      ]
    },
    {
      "cell_type": "code",
      "metadata": {
        "id": "md729X7oxbpJ",
        "colab_type": "code",
        "outputId": "98c1c1f7-04eb-456e-b70e-df30fdfe2f13",
        "colab": {
          "base_uri": "https://localhost:8080/",
          "height": 121
        }
      },
      "source": [
        "print(img_tensor[:,10:15,10:15])\n",
        "print(torch.max(img_tensor),torch.min(img_tensor))"
      ],
      "execution_count": 0,
      "outputs": [
        {
          "output_type": "stream",
          "text": [
            "tensor([[[0.0039, 0.6039, 0.9922, 0.3529, 0.0000],\n",
            "         [0.0000, 0.5451, 0.9922, 0.7451, 0.0078],\n",
            "         [0.0000, 0.0431, 0.7451, 0.9922, 0.2745],\n",
            "         [0.0000, 0.0000, 0.1373, 0.9451, 0.8824],\n",
            "         [0.0000, 0.0000, 0.0000, 0.3176, 0.9412]]])\n",
            "tensor(1.) tensor(0.)\n"
          ],
          "name": "stdout"
        }
      ]
    },
    {
      "cell_type": "code",
      "metadata": {
        "id": "JJxiMNtVx8_z",
        "colab_type": "code",
        "outputId": "b6c995bd-9e6b-49e3-d326-2172a609273a",
        "colab": {
          "base_uri": "https://localhost:8080/",
          "height": 286
        }
      },
      "source": [
        "#plot the image by passing in the 28x28 matrix\n",
        "plt.imshow(img_tensor[0],cmap=\"gray\")"
      ],
      "execution_count": 0,
      "outputs": [
        {
          "output_type": "execute_result",
          "data": {
            "text/plain": [
              "<matplotlib.image.AxesImage at 0x7f99cb81ff60>"
            ]
          },
          "metadata": {
            "tags": []
          },
          "execution_count": 82
        },
        {
          "output_type": "display_data",
          "data": {
            "image/png": "[encoded data removed]",
            "text/plain": [
              "<Figure size 432x288 with 1 Axes>"
            ]
          },
          "metadata": {
            "tags": []
          }
        }
      ]
    },
    {
      "cell_type": "code",
      "metadata": {
        "id": "wBuZHF-RyPwo",
        "colab_type": "code",
        "colab": {}
      },
      "source": [
        "import numpy as np\n",
        "def split_indices(n,val_pct):\n",
        "  #determine size of validation set\n",
        "  n_val=int(val_pct*n)\n",
        "  #create random permutation of 0 to n-1\n",
        "  idxs=np.random.permutation(n)\n",
        "  #pick first n_val indices for validation set\n",
        "  return idxs[n_val:],idxs[:n_val]\n"
      ],
      "execution_count": 0,
      "outputs": []
    },
    {
      "cell_type": "code",
      "metadata": {
        "id": "9acwkEKWwUT3",
        "colab_type": "code",
        "colab": {}
      },
      "source": [
        "train_indices,val_indices=split_indices(len(dataset),val_pct=0.2)"
      ],
      "execution_count": 0,
      "outputs": []
    },
    {
      "cell_type": "code",
      "metadata": {
        "id": "FhNVRbahwuW7",
        "colab_type": "code",
        "outputId": "423eb945-6203-49f9-a7a1-71242395ae34",
        "colab": {
          "base_uri": "https://localhost:8080/",
          "height": 52
        }
      },
      "source": [
        "print (train_indices)\n",
        "print(val_indices)"
      ],
      "execution_count": 0,
      "outputs": [
        {
          "output_type": "stream",
          "text": [
            "[53964 44611 15217 ... 10834 21642 35957]\n",
            "[55322 41314 11546 ... 33333 56430 23573]\n"
          ],
          "name": "stdout"
        }
      ]
    },
    {
      "cell_type": "code",
      "metadata": {
        "id": "QmbW5GB_0flz",
        "colab_type": "code",
        "outputId": "0b9c0d9d-4414-4ced-9ca1-8010952d8b5c",
        "colab": {
          "base_uri": "https://localhost:8080/",
          "height": 69
        }
      },
      "source": [
        "print(len(train_indices),len(val_indices))\n",
        "print(\"sample val indices:\",val_indices[:20])"
      ],
      "execution_count": 0,
      "outputs": [
        {
          "output_type": "stream",
          "text": [
            "48000 12000\n",
            "sample val indices: [55322 41314 11546  7360 15650 34510 59136 50906 48292  6808 55694 15747\n",
            " 43621 21005 40390 17592 56283  3465 59625 36456]\n"
          ],
          "name": "stdout"
        }
      ]
    },
    {
      "cell_type": "code",
      "metadata": {
        "id": "1HCIYWJS0xQA",
        "colab_type": "code",
        "colab": {}
      },
      "source": [
        "from torch.utils.data.sampler import SubsetRandomSampler\n",
        "from torch.utils.data.dataloader import DataLoader"
      ],
      "execution_count": 0,
      "outputs": []
    },
    {
      "cell_type": "code",
      "metadata": {
        "id": "7k-FvnoB1J_0",
        "colab_type": "code",
        "colab": {}
      },
      "source": [
        "batch_size=100\n",
        "#training sampler and data loader\n",
        "train_sampler=SubsetRandomSampler(train_indices)\n",
        "train_loader=DataLoader(dataset,batch_size,sampler=train_sampler)\n",
        "#validation sampler and data loader\n",
        "val_sampler=SubsetRandomSampler(val_indices)\n",
        "val_loader=DataLoader(dataset,batch_size,sampler=val_sampler)"
      ],
      "execution_count": 0,
      "outputs": []
    },
    {
      "cell_type": "code",
      "metadata": {
        "id": "gsBmbyZJ11MQ",
        "colab_type": "code",
        "colab": {}
      },
      "source": [
        "import torch.nn as nn\n",
        "input_size=28*28\n",
        "num_classes=10\n",
        "#logistic regression model\n",
        "model=nn.Linear(input_size,num_classes)"
      ],
      "execution_count": 0,
      "outputs": []
    },
    {
      "cell_type": "code",
      "metadata": {
        "id": "-r19keuB2SdL",
        "colab_type": "code",
        "outputId": "ff381280-510e-444d-de79-8cabbc0260d2",
        "colab": {
          "base_uri": "https://localhost:8080/",
          "height": 191
        }
      },
      "source": [
        "print(model.weight.shape)\n",
        "model.weight"
      ],
      "execution_count": 0,
      "outputs": [
        {
          "output_type": "stream",
          "text": [
            "torch.Size([10, 784])\n"
          ],
          "name": "stdout"
        },
        {
          "output_type": "execute_result",
          "data": {
            "text/plain": [
              "Parameter containing:\n",
              "tensor([[-0.0330, -0.0138,  0.0098,  ..., -0.0334,  0.0107, -0.0313],\n",
              "        [-0.0139,  0.0271,  0.0021,  ..., -0.0138, -0.0059, -0.0099],\n",
              "        [-0.0041,  0.0306, -0.0300,  ..., -0.0193, -0.0179, -0.0316],\n",
              "        ...,\n",
              "        [-0.0251, -0.0230,  0.0240,  ...,  0.0229, -0.0015,  0.0324],\n",
              "        [-0.0238, -0.0345, -0.0133,  ..., -0.0299, -0.0306, -0.0174],\n",
              "        [-0.0271,  0.0283, -0.0314,  ..., -0.0070, -0.0015, -0.0182]],\n",
              "       requires_grad=True)"
            ]
          },
          "metadata": {
            "tags": []
          },
          "execution_count": 90
        }
      ]
    },
    {
      "cell_type": "code",
      "metadata": {
        "id": "AcmIse0G2e-k",
        "colab_type": "code",
        "outputId": "82f1f796-59d4-4672-f15e-4cddbd55216b",
        "colab": {
          "base_uri": "https://localhost:8080/",
          "height": 86
        }
      },
      "source": [
        "print(model.bias.shape)\n",
        "model.bias"
      ],
      "execution_count": 0,
      "outputs": [
        {
          "output_type": "stream",
          "text": [
            "torch.Size([10])\n"
          ],
          "name": "stdout"
        },
        {
          "output_type": "execute_result",
          "data": {
            "text/plain": [
              "Parameter containing:\n",
              "tensor([ 0.0161, -0.0083,  0.0196, -0.0297,  0.0166,  0.0045,  0.0106, -0.0158,\n",
              "        -0.0302, -0.0168], requires_grad=True)"
            ]
          },
          "metadata": {
            "tags": []
          },
          "execution_count": 91
        }
      ]
    },
    {
      "cell_type": "code",
      "metadata": {
        "id": "g8q25Xrb42O1",
        "colab_type": "code",
        "outputId": "336eeab7-4e68-41d3-90c2-421cbae8bd0e",
        "colab": {
          "base_uri": "https://localhost:8080/",
          "height": 121
        }
      },
      "source": [
        "for images,labels in train_loader:\n",
        "  print(labels)\n",
        "  print(images.shape)\n",
        "  outputs=model(images)\n",
        "  break"
      ],
      "execution_count": 0,
      "outputs": [
        {
          "output_type": "stream",
          "text": [
            "tensor([2, 7, 1, 8, 2, 4, 8, 3, 4, 6, 8, 9, 8, 5, 3, 1, 7, 5, 3, 9, 5, 4, 4, 8,\n",
            "        7, 9, 8, 7, 8, 0, 8, 8, 3, 2, 9, 6, 0, 0, 7, 8, 9, 6, 8, 6, 3, 0, 0, 8,\n",
            "        5, 3, 1, 7, 1, 7, 9, 0, 0, 4, 2, 8, 4, 7, 5, 2, 5, 7, 5, 8, 8, 7, 6, 0,\n",
            "        7, 9, 8, 0, 2, 1, 2, 9, 0, 1, 7, 6, 0, 2, 3, 4, 8, 5, 2, 1, 4, 7, 3, 8,\n",
            "        0, 2, 2, 9])\n",
            "torch.Size([100, 1, 28, 28])\n"
          ],
          "name": "stdout"
        }
      ]
    },
    {
      "cell_type": "code",
      "metadata": {
        "id": "ceYliAck5qzj",
        "colab_type": "code",
        "colab": {}
      },
      "source": [
        "\n",
        "class MnistModel(nn.Module):\n",
        "  def __init__(self):\n",
        "    super().__init__()\n",
        "    self.linear=nn.Linear(input_size,num_classes)\n",
        "    \n",
        "  def forward(self,xb):\n",
        "    xb=xb.reshape(-1,784)\n",
        "    out=self.linear(xb)\n",
        "    return out\n",
        "  \n",
        "model=MnistModel()  "
      ],
      "execution_count": 0,
      "outputs": []
    },
    {
      "cell_type": "code",
      "metadata": {
        "id": "s48bAwoB6dg7",
        "colab_type": "code",
        "outputId": "8e9bb058-faea-4a6f-b405-465de041e0d0",
        "colab": {
          "base_uri": "https://localhost:8080/",
          "height": 121
        }
      },
      "source": [
        "for images,labels in train_loader:\n",
        "  outputs=model(images)\n",
        "  break\n",
        "  \n",
        "print(\"outputs.shape:\",outputs.shape)\n",
        "print(\"sample outputs:\",outputs[:2].data)\n",
        "print(label)\n",
        "  "
      ],
      "execution_count": 0,
      "outputs": [
        {
          "output_type": "stream",
          "text": [
            "outputs.shape: torch.Size([100, 10])\n",
            "sample outputs: tensor([[-0.1983, -0.1588, -0.4137, -0.1209, -0.3877,  0.1550,  0.2816,  0.2077,\n",
            "          0.0394, -0.2000],\n",
            "        [-0.1047,  0.0472,  0.2326, -0.2413, -0.3579, -0.0644,  0.5186, -0.5013,\n",
            "          0.2688,  0.1322]])\n",
            "5\n"
          ],
          "name": "stdout"
        }
      ]
    },
    {
      "cell_type": "code",
      "metadata": {
        "id": "S0K_0IPm7fTl",
        "colab_type": "code",
        "outputId": "76ee7e7b-4697-4d86-ddc8-2ffc8c9705f4",
        "colab": {
          "base_uri": "https://localhost:8080/",
          "height": 104
        }
      },
      "source": [
        "import torch.nn.functional as F\n",
        "#apply softmax for each output row\n",
        "probs=F.softmax(outputs,dim=1)\n",
        "#look at sample probabilities\n",
        "print(\"sample probabilities:\",probs[:2].data)\n",
        "#add up the probabilities of the output row\n",
        "print(\"sum:\",torch.sum(probs[0]).item())"
      ],
      "execution_count": 0,
      "outputs": [
        {
          "output_type": "stream",
          "text": [
            "sample probabilities: tensor([[0.0865, 0.0900, 0.0697, 0.0935, 0.0716, 0.1231, 0.1398, 0.1298, 0.1097,\n",
            "         0.0864],\n",
            "        [0.0869, 0.1011, 0.1217, 0.0758, 0.0674, 0.0904, 0.1620, 0.0584, 0.1262,\n",
            "         0.1101]])\n",
            "sum: 1.0\n"
          ],
          "name": "stdout"
        }
      ]
    },
    {
      "cell_type": "code",
      "metadata": {
        "id": "8XUBongV9A1x",
        "colab_type": "code",
        "outputId": "e784d38e-3c21-459c-9879-814b4c160389",
        "colab": {
          "base_uri": "https://localhost:8080/",
          "height": 312
        }
      },
      "source": [
        "max_probs,preds=torch.max(probs,dim=1)\n",
        "print(preds)\n",
        "print(max_probs)"
      ],
      "execution_count": 0,
      "outputs": [
        {
          "output_type": "stream",
          "text": [
            "tensor([6, 6, 6, 6, 8, 6, 2, 6, 2, 6, 6, 6, 6, 5, 6, 6, 6, 6, 8, 5, 6, 6, 8, 6,\n",
            "        6, 2, 5, 3, 5, 6, 6, 2, 2, 6, 3, 5, 6, 6, 3, 6, 6, 6, 8, 5, 6, 3, 3, 2,\n",
            "        6, 6, 6, 6, 8, 6, 6, 6, 6, 8, 5, 7, 8, 5, 6, 6, 6, 6, 3, 6, 8, 7, 6, 6,\n",
            "        6, 6, 6, 6, 6, 6, 6, 6, 2, 6, 6, 6, 6, 1, 6, 6, 6, 6, 6, 6, 9, 8, 6, 5,\n",
            "        1, 6, 8, 6])\n",
            "tensor([0.1398, 0.1620, 0.1424, 0.1257, 0.1214, 0.1404, 0.1296, 0.1260, 0.1310,\n",
            "        0.1473, 0.1429, 0.1250, 0.1382, 0.1181, 0.1536, 0.1286, 0.1243, 0.1167,\n",
            "        0.1181, 0.1409, 0.1292, 0.1340, 0.1242, 0.1147, 0.1168, 0.1264, 0.1306,\n",
            "        0.1234, 0.1381, 0.1327, 0.1308, 0.1165, 0.1125, 0.1508, 0.1250, 0.1243,\n",
            "        0.1395, 0.1658, 0.1165, 0.1206, 0.1252, 0.1471, 0.1339, 0.1259, 0.1788,\n",
            "        0.1182, 0.1404, 0.1239, 0.1305, 0.1381, 0.1518, 0.1590, 0.1191, 0.1293,\n",
            "        0.1349, 0.1353, 0.1559, 0.1342, 0.1129, 0.1233, 0.1326, 0.1230, 0.1275,\n",
            "        0.1168, 0.1151, 0.1551, 0.1179, 0.1285, 0.1208, 0.1112, 0.1305, 0.1569,\n",
            "        0.1210, 0.1255, 0.1461, 0.1324, 0.1143, 0.1320, 0.1205, 0.1292, 0.1209,\n",
            "        0.1421, 0.1498, 0.1368, 0.1286, 0.1287, 0.1304, 0.1310, 0.1500, 0.1542,\n",
            "        0.1428, 0.1159, 0.1628, 0.1253, 0.1370, 0.1427, 0.1322, 0.1419, 0.1309,\n",
            "        0.1602], grad_fn=<MaxBackward0>)\n"
          ],
          "name": "stdout"
        }
      ]
    },
    {
      "cell_type": "code",
      "metadata": {
        "id": "IL_xmsJT9NQL",
        "colab_type": "code",
        "outputId": "c7217f52-46c7-451e-decb-216dd6c1d96c",
        "colab": {
          "base_uri": "https://localhost:8080/",
          "height": 104
        }
      },
      "source": [
        "print(labels)"
      ],
      "execution_count": 0,
      "outputs": [
        {
          "output_type": "stream",
          "text": [
            "tensor([4, 3, 6, 6, 7, 8, 1, 7, 1, 0, 6, 1, 9, 4, 9, 2, 4, 1, 6, 0, 7, 8, 3, 5,\n",
            "        5, 1, 9, 1, 9, 9, 3, 5, 1, 3, 2, 2, 9, 4, 3, 3, 6, 3, 0, 0, 3, 8, 1, 1,\n",
            "        9, 8, 7, 4, 1, 9, 6, 9, 7, 2, 7, 6, 2, 4, 1, 1, 2, 4, 9, 9, 7, 1, 4, 7,\n",
            "        2, 5, 4, 4, 0, 6, 9, 9, 1, 2, 2, 3, 4, 6, 7, 5, 7, 2, 4, 4, 4, 4, 8, 4,\n",
            "        5, 7, 3, 4])\n"
          ],
          "name": "stdout"
        }
      ]
    },
    {
      "cell_type": "code",
      "metadata": {
        "id": "zVAF1rr9-E9o",
        "colab_type": "code",
        "colab": {}
      },
      "source": [
        "def accuracy(l1,l2):\n",
        "  return torch.sum(l1==l2).item()/len(l1)"
      ],
      "execution_count": 0,
      "outputs": []
    },
    {
      "cell_type": "code",
      "metadata": {
        "id": "UtsIQq67-Oie",
        "colab_type": "code",
        "outputId": "13873d70-269b-4413-8eff-bfabbbdb94ee",
        "colab": {
          "base_uri": "https://localhost:8080/",
          "height": 34
        }
      },
      "source": [
        "accuracy(preds,labels)"
      ],
      "execution_count": 0,
      "outputs": [
        {
          "output_type": "execute_result",
          "data": {
            "text/plain": [
              "0.07"
            ]
          },
          "metadata": {
            "tags": []
          },
          "execution_count": 104
        }
      ]
    },
    {
      "cell_type": "code",
      "metadata": {
        "id": "N1a8Mjcr-TaK",
        "colab_type": "code",
        "outputId": "345022a7-cb29-48d9-b9c9-0e32cf91e744",
        "colab": {
          "base_uri": "https://localhost:8080/",
          "height": 34
        }
      },
      "source": [
        "loss_fn=F.cross_entropy\n",
        "loss=loss_fn(outputs,labels)\n",
        "print(loss)"
      ],
      "execution_count": 0,
      "outputs": [
        {
          "output_type": "stream",
          "text": [
            "tensor(2.3593, grad_fn=<NllLossBackward>)\n"
          ],
          "name": "stdout"
        }
      ]
    },
    {
      "cell_type": "code",
      "metadata": {
        "id": "2Rwa8Ubj_MZN",
        "colab_type": "code",
        "colab": {}
      },
      "source": [
        "learning_rate=1e-3\n",
        "optimizer=torch.optim.SGD(model.parameters(),lr=learning_rate)"
      ],
      "execution_count": 0,
      "outputs": []
    },
    {
      "cell_type": "code",
      "metadata": {
        "id": "7BUAG3pK_fxv",
        "colab_type": "code",
        "colab": {}
      },
      "source": [
        "def loss_batch(model,loss_func,xb,yb,opt=None,metric=None):\n",
        "  #calculate loss\n",
        "  preds=model(xb)\n",
        "  loss=loss_func(preds,yb)\n",
        "  if opt is not None:\n",
        "    loss.backward()\n",
        "    opt.step()\n",
        "    opt.zero_grad()\n",
        "  metric_result=None\n",
        "  if metric is not None:\n",
        "    metric_result=metric(preds,yb)\n",
        "    \n",
        "  return loss.item(),len(xb),metric_result  \n",
        "    "
      ],
      "execution_count": 0,
      "outputs": []
    },
    {
      "cell_type": "code",
      "metadata": {
        "id": "yjmSvGSqUlQk",
        "colab_type": "code",
        "colab": {}
      },
      "source": [
        "def evaluate(model,loss_fn,valid_dl,metric=None):\n",
        "  with torch.no_grad():\n",
        "    #pass each batch through the model\n",
        "    results=[loss_batch(model,loss_fn,xb,yb,metric=metric) for xb,yb in valid_dl]\n",
        "    #seperate losses,counts and metrics\n",
        "    losses,nums,metrics=zip(*results)\n",
        "    #total size of datasets\n",
        "    total=np.sum(nums)\n",
        "    \n",
        "    #avg.loss across batches\n",
        "    avg_loss=np.sum(np.multiply(losses,nums))/total\n",
        "    avg_metric=None\n",
        "    if metric is not None:\n",
        "      #average of metric across batches\n",
        "      avg_metric=np.sum(np.multiply(metrics,nums))/total\n",
        "  return avg_loss,total,avg_metric\n"
      ],
      "execution_count": 0,
      "outputs": []
    },
    {
      "cell_type": "code",
      "metadata": {
        "id": "pUTsQ7IyWI54",
        "colab_type": "code",
        "colab": {}
      },
      "source": [
        "def accuracy(outputs,labels):\n",
        "  _,preds=torch.max(outputs,dim=1)\n",
        "  return torch.sum(preds==labels).item()/len(preds)"
      ],
      "execution_count": 0,
      "outputs": []
    },
    {
      "cell_type": "code",
      "metadata": {
        "id": "IDbXShmKXTpr",
        "colab_type": "code",
        "outputId": "b262b47d-ff95-4ea2-dffb-e91aad6f49b5",
        "colab": {
          "base_uri": "https://localhost:8080/",
          "height": 34
        }
      },
      "source": [
        "val_loss,total,val_acc=evaluate(model,loss_fn,val_loader,metric=accuracy)\n",
        "print(\"loss:{:.4f},accuracy:{:.4f}\".format(val_loss,val_acc))"
      ],
      "execution_count": 0,
      "outputs": [
        {
          "output_type": "stream",
          "text": [
            "loss:2.3218,accuracy:0.1187\n"
          ],
          "name": "stdout"
        }
      ]
    },
    {
      "cell_type": "code",
      "metadata": {
        "id": "GpJ3INPzYurv",
        "colab_type": "code",
        "colab": {}
      },
      "source": [
        "def fit(epochs,model,loss_fn,opt,train_dl,valid_dl,metric=None):\n",
        "  for epoch in range(epochs):\n",
        "    #training\n",
        "    for xb,yb in train_dl:\n",
        "      loss,_,_=loss_batch(model,loss_fn,xb,yb,opt)\n",
        "    #evaluation\n",
        "    result=evaluate(model,loss_fn,valid_dl,metric)\n",
        "    val_loss,total,val_metric=result\n",
        "    #print progress\n",
        "    if metric is None:\n",
        "      print('Epoch[{}/{}],loss:{:.4f}'.format(epoch+1,epochs,val_loss))\n",
        "    else:\n",
        "      print('Epoch[{}/{}],loss:{:.4f},{}:{:.4f}'.format(epoch+1,epochs,val_loss,metric.__name__,val_metric))"
      ],
      "execution_count": 0,
      "outputs": []
    },
    {
      "cell_type": "code",
      "metadata": {
        "id": "pDvhlf0CZ7PP",
        "colab_type": "code",
        "colab": {}
      },
      "source": [
        "#redefine model and optimizer\n",
        "model=MnistModel()\n",
        "optimizer=torch.optim.SGD(model.parameters(),lr=learning_rate)"
      ],
      "execution_count": 0,
      "outputs": []
    },
    {
      "cell_type": "code",
      "metadata": {
        "id": "A-lXN3KIaKe6",
        "colab_type": "code",
        "outputId": "ee820e5b-65df-4f11-b5e6-5c281e14a488",
        "colab": {
          "base_uri": "https://localhost:8080/",
          "height": 104
        }
      },
      "source": [
        "fit(5,model,F.cross_entropy,optimizer,train_loader,val_loader,accuracy)"
      ],
      "execution_count": 0,
      "outputs": [
        {
          "output_type": "stream",
          "text": [
            "Epoch[1/5],loss:0.6818,accuracy:0.8528\n",
            "Epoch[2/5],loss:0.6667,accuracy:0.8544\n",
            "Epoch[3/5],loss:0.6528,accuracy:0.8562\n",
            "Epoch[4/5],loss:0.6403,accuracy:0.8578\n",
            "Epoch[5/5],loss:0.6287,accuracy:0.8594\n"
          ],
          "name": "stdout"
        }
      ]
    },
    {
      "cell_type": "code",
      "metadata": {
        "id": "vNOHk_UPbGiI",
        "colab_type": "code",
        "outputId": "31a4551d-36d2-41f5-e90e-e1b0dd2022cd",
        "colab": {
          "base_uri": "https://localhost:8080/",
          "height": 304
        }
      },
      "source": [
        "#define test dataset\n",
        "test_dataset=MNIST(root='data/',train=False,transform=transforms.ToTensor())\n",
        "img,label=test_dataset[0]\n",
        "plt.imshow(img[0],cmap='gray')\n",
        "print('shape:',img.shape)\n",
        "print('label:',label)"
      ],
      "execution_count": 0,
      "outputs": [
        {
          "output_type": "stream",
          "text": [
            "shape: torch.Size([1, 28, 28])\n",
            "label: 7\n"
          ],
          "name": "stdout"
        },
        {
          "output_type": "display_data",
          "data": {
            "image/png": "[encoded data removed]",
            "text/plain": [
              "<Figure size 432x288 with 1 Axes>"
            ]
          },
          "metadata": {
            "tags": []
          }
        }
      ]
    },
    {
      "cell_type": "code",
      "metadata": {
        "id": "pQxNzY0rcl9S",
        "colab_type": "code",
        "outputId": "467d1629-4958-4387-a81a-4ddea96c675f",
        "colab": {
          "base_uri": "https://localhost:8080/",
          "height": 1000
        }
      },
      "source": [
        "img.unsqueeze(0)"
      ],
      "execution_count": 0,
      "outputs": [
        {
          "output_type": "execute_result",
          "data": {
            "text/plain": [
              "tensor([[[[0.0000, 0.0000, 0.0000, 0.0000, 0.0000, 0.0000, 0.0000, 0.0000,\n",
              "           0.0000, 0.0000, 0.0000, 0.0000, 0.0000, 0.0000, 0.0000, 0.0000,\n",
              "           0.0000, 0.0000, 0.0000, 0.0000, 0.0000, 0.0000, 0.0000, 0.0000,\n",
              "           0.0000, 0.0000, 0.0000, 0.0000],\n",
              "          [0.0000, 0.0000, 0.0000, 0.0000, 0.0000, 0.0000, 0.0000, 0.0000,\n",
              "           0.0000, 0.0000, 0.0000, 0.0000, 0.0000, 0.0000, 0.0000, 0.0000,\n",
              "           0.0000, 0.0000, 0.0000, 0.0000, 0.0000, 0.0000, 0.0000, 0.0000,\n",
              "           0.0000, 0.0000, 0.0000, 0.0000],\n",
              "          [0.0000, 0.0000, 0.0000, 0.0000, 0.0000, 0.0000, 0.0000, 0.0000,\n",
              "           0.0000, 0.0000, 0.0000, 0.0000, 0.0000, 0.0000, 0.0000, 0.0000,\n",
              "           0.0000, 0.0000, 0.0000, 0.0000, 0.0000, 0.0000, 0.0000, 0.0000,\n",
              "           0.0000, 0.0000, 0.0000, 0.0000],\n",
              "          [0.0000, 0.0000, 0.0000, 0.0000, 0.0000, 0.0000, 0.0000, 0.0000,\n",
              "           0.0000, 0.0000, 0.0000, 0.0000, 0.0000, 0.0000, 0.0000, 0.0000,\n",
              "           0.0000, 0.0000, 0.0000, 0.0000, 0.0000, 0.0000, 0.0000, 0.0000,\n",
              "           0.0000, 0.0000, 0.0000, 0.0000],\n",
              "          [0.0000, 0.0000, 0.0000, 0.0000, 0.0000, 0.0000, 0.0000, 0.0000,\n",
              "           0.0000, 0.0000, 0.0000, 0.0000, 0.0000, 0.0000, 0.0000, 0.0000,\n",
              "           0.0000, 0.0000, 0.0000, 0.0000, 0.0000, 0.0000, 0.0000, 0.0000,\n",
              "           0.0000, 0.0000, 0.0000, 0.0000],\n",
              "          [0.0000, 0.0000, 0.0000, 0.0000, 0.0000, 0.0000, 0.0000, 0.0000,\n",
              "           0.0000, 0.0000, 0.0000, 0.0000, 0.0000, 0.0000, 0.0000, 0.0000,\n",
              "           0.0000, 0.0000, 0.0000, 0.0000, 0.0000, 0.0000, 0.0000, 0.0000,\n",
              "           0.0000, 0.0000, 0.0000, 0.0000],\n",
              "          [0.0000, 0.0000, 0.0000, 0.0000, 0.0000, 0.0000, 0.0000, 0.0000,\n",
              "           0.0000, 0.0000, 0.0000, 0.0000, 0.0000, 0.0000, 0.0000, 0.0000,\n",
              "           0.0000, 0.0000, 0.0000, 0.0000, 0.0000, 0.0000, 0.0000, 0.0000,\n",
              "           0.0000, 0.0000, 0.0000, 0.0000],\n",
              "          [0.0000, 0.0000, 0.0000, 0.0000, 0.0000, 0.0000, 0.3294, 0.7255,\n",
              "           0.6235, 0.5922, 0.2353, 0.1412, 0.0000, 0.0000, 0.0000, 0.0000,\n",
              "           0.0000, 0.0000, 0.0000, 0.0000, 0.0000, 0.0000, 0.0000, 0.0000,\n",
              "           0.0000, 0.0000, 0.0000, 0.0000],\n",
              "          [0.0000, 0.0000, 0.0000, 0.0000, 0.0000, 0.0000, 0.8706, 0.9961,\n",
              "           0.9961, 0.9961, 0.9961, 0.9451, 0.7765, 0.7765, 0.7765, 0.7765,\n",
              "           0.7765, 0.7765, 0.7765, 0.7765, 0.6667, 0.2039, 0.0000, 0.0000,\n",
              "           0.0000, 0.0000, 0.0000, 0.0000],\n",
              "          [0.0000, 0.0000, 0.0000, 0.0000, 0.0000, 0.0000, 0.2627, 0.4471,\n",
              "           0.2824, 0.4471, 0.6392, 0.8902, 0.9961, 0.8824, 0.9961, 0.9961,\n",
              "           0.9961, 0.9804, 0.8980, 0.9961, 0.9961, 0.5490, 0.0000, 0.0000,\n",
              "           0.0000, 0.0000, 0.0000, 0.0000],\n",
              "          [0.0000, 0.0000, 0.0000, 0.0000, 0.0000, 0.0000, 0.0000, 0.0000,\n",
              "           0.0000, 0.0000, 0.0000, 0.0667, 0.2588, 0.0549, 0.2627, 0.2627,\n",
              "           0.2627, 0.2314, 0.0824, 0.9255, 0.9961, 0.4157, 0.0000, 0.0000,\n",
              "           0.0000, 0.0000, 0.0000, 0.0000],\n",
              "          [0.0000, 0.0000, 0.0000, 0.0000, 0.0000, 0.0000, 0.0000, 0.0000,\n",
              "           0.0000, 0.0000, 0.0000, 0.0000, 0.0000, 0.0000, 0.0000, 0.0000,\n",
              "           0.0000, 0.0000, 0.3255, 0.9922, 0.8196, 0.0706, 0.0000, 0.0000,\n",
              "           0.0000, 0.0000, 0.0000, 0.0000],\n",
              "          [0.0000, 0.0000, 0.0000, 0.0000, 0.0000, 0.0000, 0.0000, 0.0000,\n",
              "           0.0000, 0.0000, 0.0000, 0.0000, 0.0000, 0.0000, 0.0000, 0.0000,\n",
              "           0.0000, 0.0863, 0.9137, 1.0000, 0.3255, 0.0000, 0.0000, 0.0000,\n",
              "           0.0000, 0.0000, 0.0000, 0.0000],\n",
              "          [0.0000, 0.0000, 0.0000, 0.0000, 0.0000, 0.0000, 0.0000, 0.0000,\n",
              "           0.0000, 0.0000, 0.0000, 0.0000, 0.0000, 0.0000, 0.0000, 0.0000,\n",
              "           0.0000, 0.5059, 0.9961, 0.9333, 0.1725, 0.0000, 0.0000, 0.0000,\n",
              "           0.0000, 0.0000, 0.0000, 0.0000],\n",
              "          [0.0000, 0.0000, 0.0000, 0.0000, 0.0000, 0.0000, 0.0000, 0.0000,\n",
              "           0.0000, 0.0000, 0.0000, 0.0000, 0.0000, 0.0000, 0.0000, 0.0000,\n",
              "           0.2314, 0.9765, 0.9961, 0.2431, 0.0000, 0.0000, 0.0000, 0.0000,\n",
              "           0.0000, 0.0000, 0.0000, 0.0000],\n",
              "          [0.0000, 0.0000, 0.0000, 0.0000, 0.0000, 0.0000, 0.0000, 0.0000,\n",
              "           0.0000, 0.0000, 0.0000, 0.0000, 0.0000, 0.0000, 0.0000, 0.0000,\n",
              "           0.5216, 0.9961, 0.7333, 0.0196, 0.0000, 0.0000, 0.0000, 0.0000,\n",
              "           0.0000, 0.0000, 0.0000, 0.0000],\n",
              "          [0.0000, 0.0000, 0.0000, 0.0000, 0.0000, 0.0000, 0.0000, 0.0000,\n",
              "           0.0000, 0.0000, 0.0000, 0.0000, 0.0000, 0.0000, 0.0000, 0.0353,\n",
              "           0.8039, 0.9725, 0.2275, 0.0000, 0.0000, 0.0000, 0.0000, 0.0000,\n",
              "           0.0000, 0.0000, 0.0000, 0.0000],\n",
              "          [0.0000, 0.0000, 0.0000, 0.0000, 0.0000, 0.0000, 0.0000, 0.0000,\n",
              "           0.0000, 0.0000, 0.0000, 0.0000, 0.0000, 0.0000, 0.0000, 0.4941,\n",
              "           0.9961, 0.7137, 0.0000, 0.0000, 0.0000, 0.0000, 0.0000, 0.0000,\n",
              "           0.0000, 0.0000, 0.0000, 0.0000],\n",
              "          [0.0000, 0.0000, 0.0000, 0.0000, 0.0000, 0.0000, 0.0000, 0.0000,\n",
              "           0.0000, 0.0000, 0.0000, 0.0000, 0.0000, 0.0000, 0.2941, 0.9843,\n",
              "           0.9412, 0.2235, 0.0000, 0.0000, 0.0000, 0.0000, 0.0000, 0.0000,\n",
              "           0.0000, 0.0000, 0.0000, 0.0000],\n",
              "          [0.0000, 0.0000, 0.0000, 0.0000, 0.0000, 0.0000, 0.0000, 0.0000,\n",
              "           0.0000, 0.0000, 0.0000, 0.0000, 0.0000, 0.0745, 0.8667, 0.9961,\n",
              "           0.6510, 0.0000, 0.0000, 0.0000, 0.0000, 0.0000, 0.0000, 0.0000,\n",
              "           0.0000, 0.0000, 0.0000, 0.0000],\n",
              "          [0.0000, 0.0000, 0.0000, 0.0000, 0.0000, 0.0000, 0.0000, 0.0000,\n",
              "           0.0000, 0.0000, 0.0000, 0.0000, 0.0118, 0.7961, 0.9961, 0.8588,\n",
              "           0.1373, 0.0000, 0.0000, 0.0000, 0.0000, 0.0000, 0.0000, 0.0000,\n",
              "           0.0000, 0.0000, 0.0000, 0.0000],\n",
              "          [0.0000, 0.0000, 0.0000, 0.0000, 0.0000, 0.0000, 0.0000, 0.0000,\n",
              "           0.0000, 0.0000, 0.0000, 0.0000, 0.1490, 0.9961, 0.9961, 0.3020,\n",
              "           0.0000, 0.0000, 0.0000, 0.0000, 0.0000, 0.0000, 0.0000, 0.0000,\n",
              "           0.0000, 0.0000, 0.0000, 0.0000],\n",
              "          [0.0000, 0.0000, 0.0000, 0.0000, 0.0000, 0.0000, 0.0000, 0.0000,\n",
              "           0.0000, 0.0000, 0.0000, 0.1216, 0.8784, 0.9961, 0.4510, 0.0039,\n",
              "           0.0000, 0.0000, 0.0000, 0.0000, 0.0000, 0.0000, 0.0000, 0.0000,\n",
              "           0.0000, 0.0000, 0.0000, 0.0000],\n",
              "          [0.0000, 0.0000, 0.0000, 0.0000, 0.0000, 0.0000, 0.0000, 0.0000,\n",
              "           0.0000, 0.0000, 0.0000, 0.5216, 0.9961, 0.9961, 0.2039, 0.0000,\n",
              "           0.0000, 0.0000, 0.0000, 0.0000, 0.0000, 0.0000, 0.0000, 0.0000,\n",
              "           0.0000, 0.0000, 0.0000, 0.0000],\n",
              "          [0.0000, 0.0000, 0.0000, 0.0000, 0.0000, 0.0000, 0.0000, 0.0000,\n",
              "           0.0000, 0.0000, 0.2392, 0.9490, 0.9961, 0.9961, 0.2039, 0.0000,\n",
              "           0.0000, 0.0000, 0.0000, 0.0000, 0.0000, 0.0000, 0.0000, 0.0000,\n",
              "           0.0000, 0.0000, 0.0000, 0.0000],\n",
              "          [0.0000, 0.0000, 0.0000, 0.0000, 0.0000, 0.0000, 0.0000, 0.0000,\n",
              "           0.0000, 0.0000, 0.4745, 0.9961, 0.9961, 0.8588, 0.1569, 0.0000,\n",
              "           0.0000, 0.0000, 0.0000, 0.0000, 0.0000, 0.0000, 0.0000, 0.0000,\n",
              "           0.0000, 0.0000, 0.0000, 0.0000],\n",
              "          [0.0000, 0.0000, 0.0000, 0.0000, 0.0000, 0.0000, 0.0000, 0.0000,\n",
              "           0.0000, 0.0000, 0.4745, 0.9961, 0.8118, 0.0706, 0.0000, 0.0000,\n",
              "           0.0000, 0.0000, 0.0000, 0.0000, 0.0000, 0.0000, 0.0000, 0.0000,\n",
              "           0.0000, 0.0000, 0.0000, 0.0000],\n",
              "          [0.0000, 0.0000, 0.0000, 0.0000, 0.0000, 0.0000, 0.0000, 0.0000,\n",
              "           0.0000, 0.0000, 0.0000, 0.0000, 0.0000, 0.0000, 0.0000, 0.0000,\n",
              "           0.0000, 0.0000, 0.0000, 0.0000, 0.0000, 0.0000, 0.0000, 0.0000,\n",
              "           0.0000, 0.0000, 0.0000, 0.0000]]]])"
            ]
          },
          "metadata": {
            "tags": []
          },
          "execution_count": 125
        }
      ]
    },
    {
      "cell_type": "code",
      "metadata": {
        "id": "WzWWkqwacq6I",
        "colab_type": "code",
        "colab": {}
      },
      "source": [
        "def predict_image(img,model):\n",
        "  xb=img.unsqueeze(0)\n",
        "  yb=model(xb)\n",
        "  _,preds =torch.max(yb,dim=1)\n",
        "  return preds[0].item()"
      ],
      "execution_count": 0,
      "outputs": []
    },
    {
      "cell_type": "code",
      "metadata": {
        "id": "t8JbQNWRdGUS",
        "colab_type": "code",
        "outputId": "10464ce7-db62-4eff-90bc-57f6180687da",
        "colab": {
          "base_uri": "https://localhost:8080/",
          "height": 286
        }
      },
      "source": [
        "img,label=test_dataset[0]\n",
        "plt.imshow(img[0],cmap='gray')\n",
        "print('label:',label,',predicted:',predict_image(img,model))"
      ],
      "execution_count": 0,
      "outputs": [
        {
          "output_type": "stream",
          "text": [
            "label: 7 ,predicted: 7\n"
          ],
          "name": "stdout"
        },
        {
          "output_type": "display_data",
          "data": {
            "image/png": "[encoded data removed]",
            "text/plain": [
              "<Figure size 432x288 with 1 Axes>"
            ]
          },
          "metadata": {
            "tags": []
          }
        }
      ]
    },
    {
      "cell_type": "code",
      "metadata": {
        "id": "8CS3iGLBegsI",
        "colab_type": "code",
        "outputId": "b3900f97-9dcf-4190-8887-f0d28b5b4a93",
        "colab": {
          "base_uri": "https://localhost:8080/",
          "height": 1000
        }
      },
      "source": [
        "equal=0\n",
        "number=100\n",
        "for i in range(number):\n",
        "  img,label=test_dataset[i]\n",
        "  plt.imshow(img[0],cmap='gray')\n",
        "  print('label:',label,',predicted:',predict_image(img,model,))\n",
        "  if(label==predict_image(img,model,)):\n",
        "    equal+=1"
      ],
      "execution_count": 0,
      "outputs": [
        {
          "output_type": "stream",
          "text": [
            "label: 7 ,predicted: 7\n",
            "label: 2 ,predicted: 2\n",
            "label: 1 ,predicted: 1\n",
            "label: 0 ,predicted: 0\n",
            "label: 4 ,predicted: 4\n",
            "label: 1 ,predicted: 1\n",
            "label: 4 ,predicted: 4\n",
            "label: 9 ,predicted: 9\n",
            "label: 5 ,predicted: 2\n",
            "label: 9 ,predicted: 9\n",
            "label: 0 ,predicted: 0\n",
            "label: 6 ,predicted: 6\n",
            "label: 9 ,predicted: 9\n",
            "label: 0 ,predicted: 0\n",
            "label: 1 ,predicted: 1\n",
            "label: 5 ,predicted: 5\n",
            "label: 9 ,predicted: 9\n",
            "label: 7 ,predicted: 7\n",
            "label: 3 ,predicted: 3\n",
            "label: 4 ,predicted: 4\n",
            "label: 9 ,predicted: 9\n",
            "label: 6 ,predicted: 6\n",
            "label: 6 ,predicted: 6\n",
            "label: 5 ,predicted: 5\n",
            "label: 4 ,predicted: 4\n",
            "label: 0 ,predicted: 0\n",
            "label: 7 ,predicted: 7\n",
            "label: 4 ,predicted: 4\n",
            "label: 0 ,predicted: 0\n",
            "label: 1 ,predicted: 1\n",
            "label: 3 ,predicted: 3\n",
            "label: 1 ,predicted: 1\n",
            "label: 3 ,predicted: 3\n",
            "label: 4 ,predicted: 0\n",
            "label: 7 ,predicted: 7\n",
            "label: 2 ,predicted: 2\n",
            "label: 7 ,predicted: 7\n",
            "label: 1 ,predicted: 1\n",
            "label: 2 ,predicted: 3\n",
            "label: 1 ,predicted: 1\n",
            "label: 1 ,predicted: 1\n",
            "label: 7 ,predicted: 7\n",
            "label: 4 ,predicted: 4\n",
            "label: 2 ,predicted: 2\n",
            "label: 3 ,predicted: 3\n",
            "label: 5 ,predicted: 5\n",
            "label: 1 ,predicted: 3\n",
            "label: 2 ,predicted: 2\n",
            "label: 4 ,predicted: 4\n",
            "label: 4 ,predicted: 4\n",
            "label: 6 ,predicted: 6\n",
            "label: 3 ,predicted: 3\n",
            "label: 5 ,predicted: 5\n",
            "label: 5 ,predicted: 5\n",
            "label: 6 ,predicted: 2\n",
            "label: 0 ,predicted: 0\n",
            "label: 4 ,predicted: 4\n",
            "label: 1 ,predicted: 1\n",
            "label: 9 ,predicted: 9\n",
            "label: 5 ,predicted: 5\n",
            "label: 7 ,predicted: 7\n",
            "label: 8 ,predicted: 8\n",
            "label: 9 ,predicted: 9\n",
            "label: 3 ,predicted: 2\n",
            "label: 7 ,predicted: 7\n",
            "label: 4 ,predicted: 9\n",
            "label: 6 ,predicted: 2\n",
            "label: 4 ,predicted: 4\n",
            "label: 3 ,predicted: 3\n",
            "label: 0 ,predicted: 0\n",
            "label: 7 ,predicted: 7\n",
            "label: 0 ,predicted: 0\n",
            "label: 2 ,predicted: 2\n",
            "label: 9 ,predicted: 8\n",
            "label: 1 ,predicted: 1\n",
            "label: 7 ,predicted: 7\n",
            "label: 3 ,predicted: 3\n",
            "label: 2 ,predicted: 7\n",
            "label: 9 ,predicted: 8\n",
            "label: 7 ,predicted: 7\n",
            "label: 7 ,predicted: 9\n",
            "label: 6 ,predicted: 6\n",
            "label: 2 ,predicted: 2\n",
            "label: 7 ,predicted: 7\n",
            "label: 8 ,predicted: 8\n",
            "label: 4 ,predicted: 4\n",
            "label: 7 ,predicted: 7\n",
            "label: 3 ,predicted: 3\n",
            "label: 6 ,predicted: 6\n",
            "label: 1 ,predicted: 1\n",
            "label: 3 ,predicted: 3\n",
            "label: 6 ,predicted: 6\n",
            "label: 9 ,predicted: 8\n",
            "label: 3 ,predicted: 3\n",
            "label: 1 ,predicted: 1\n",
            "label: 4 ,predicted: 4\n",
            "label: 1 ,predicted: 1\n",
            "label: 7 ,predicted: 1\n",
            "label: 6 ,predicted: 6\n",
            "label: 9 ,predicted: 9\n"
          ],
          "name": "stdout"
        },
        {
          "output_type": "display_data",
          "data": {
            "image/png": "[encoded data removed]",
            "text/plain": [
              "<Figure size 432x288 with 1 Axes>"
            ]
          },
          "metadata": {
            "tags": []
          }
        }
      ]
    },
    {
      "cell_type": "code",
      "metadata": {
        "id": "DKz28W13gb2H",
        "colab_type": "code",
        "outputId": "457fb272-d7c0-41a8-e8bc-6cd5a07fb96c",
        "colab": {
          "base_uri": "https://localhost:8080/",
          "height": 34
        }
      },
      "source": [
        "proximity=(equal/number)*100  \n",
        "print(proximity)"
      ],
      "execution_count": 0,
      "outputs": [
        {
          "output_type": "stream",
          "text": [
            "86.0\n"
          ],
          "name": "stdout"
        }
      ]
    },
    {
      "cell_type": "code",
      "metadata": {
        "id": "8kWwX6nnkfxu",
        "colab_type": "code",
        "colab": {}
      },
      "source": [
        "torch.save(model.state_dict(),'mnist-logistic.pth')"
      ],
      "execution_count": 0,
      "outputs": []
    },
    {
      "cell_type": "code",
      "metadata": {
        "id": "G6nvJ9cHk5Us",
        "colab_type": "code",
        "outputId": "d97b9b88-5b51-4a54-b503-b5c5530e7c5e",
        "colab": {
          "base_uri": "https://localhost:8080/",
          "height": 208
        }
      },
      "source": [
        "model.state_dict()"
      ],
      "execution_count": 0,
      "outputs": [
        {
          "output_type": "execute_result",
          "data": {
            "text/plain": [
              "OrderedDict([('linear.weight',\n",
              "              tensor([[ 0.0236, -0.0162,  0.0261,  ..., -0.0337, -0.0214, -0.0341],\n",
              "                      [-0.0266, -0.0035,  0.0267,  ...,  0.0203, -0.0256, -0.0187],\n",
              "                      [ 0.0178, -0.0020, -0.0303,  ...,  0.0081,  0.0014, -0.0192],\n",
              "                      ...,\n",
              "                      [ 0.0276, -0.0013,  0.0329,  ...,  0.0133,  0.0026,  0.0314],\n",
              "                      [ 0.0191, -0.0185,  0.0343,  ..., -0.0335,  0.0079, -0.0247],\n",
              "                      [-0.0255, -0.0343, -0.0332,  ..., -0.0013, -0.0267,  0.0316]])),\n",
              "             ('linear.bias',\n",
              "              tensor([-0.0796,  0.1040,  0.0038, -0.0463,  0.0235,  0.0669, -0.0048,  0.0477,\n",
              "                      -0.0909, -0.0241]))])"
            ]
          },
          "metadata": {
            "tags": []
          },
          "execution_count": 153
        }
      ]
    },
    {
      "cell_type": "code",
      "metadata": {
        "id": "RIbNFsQLk9z4",
        "colab_type": "code",
        "outputId": "425bbdae-4c78-46a0-a1d3-b11ccd8ed0d0",
        "colab": {
          "base_uri": "https://localhost:8080/",
          "height": 208
        }
      },
      "source": [
        "model2=MnistModel()\n",
        "model2.load_state_dict(torch.load('mnist-logistic.pth'))\n",
        "model2.state_dict()"
      ],
      "execution_count": 0,
      "outputs": [
        {
          "output_type": "execute_result",
          "data": {
            "text/plain": [
              "OrderedDict([('linear.weight',\n",
              "              tensor([[ 0.0236, -0.0162,  0.0261,  ..., -0.0337, -0.0214, -0.0341],\n",
              "                      [-0.0266, -0.0035,  0.0267,  ...,  0.0203, -0.0256, -0.0187],\n",
              "                      [ 0.0178, -0.0020, -0.0303,  ...,  0.0081,  0.0014, -0.0192],\n",
              "                      ...,\n",
              "                      [ 0.0276, -0.0013,  0.0329,  ...,  0.0133,  0.0026,  0.0314],\n",
              "                      [ 0.0191, -0.0185,  0.0343,  ..., -0.0335,  0.0079, -0.0247],\n",
              "                      [-0.0255, -0.0343, -0.0332,  ..., -0.0013, -0.0267,  0.0316]])),\n",
              "             ('linear.bias',\n",
              "              tensor([-0.0796,  0.1040,  0.0038, -0.0463,  0.0235,  0.0669, -0.0048,  0.0477,\n",
              "                      -0.0909, -0.0241]))])"
            ]
          },
          "metadata": {
            "tags": []
          },
          "execution_count": 155
        }
      ]
    }
  ]
}
