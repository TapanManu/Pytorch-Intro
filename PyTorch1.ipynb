{
  "nbformat": 4,
  "nbformat_minor": 0,
  "metadata": {
    "colab": {
      "name": "PyTorch1.ipynb",
      "provenance": [],
      "authorship_tag": "ABX9TyPBrVjdwVwOacp8oxtiYQM2",
      "include_colab_link": true
    },
    "kernelspec": {
      "name": "python3",
      "display_name": "Python 3"
    }
  },
  "cells": [
    {
      "cell_type": "markdown",
      "metadata": {
        "id": "view-in-github",
        "colab_type": "text"
      },
      "source": [
        "<a href=\"https://colab.research.google.com/github/TapanManu/Pytorch-Repo/blob/master/PyTorch1.ipynb\" target=\"_parent\"><img src=\"https://colab.research.google.com/assets/colab-badge.svg\" alt=\"Open In Colab\"/></a>"
      ]
    },
    {
      "cell_type": "code",
      "metadata": {
        "id": "q2H7NKti4WJO",
        "colab_type": "code",
        "colab": {}
      },
      "source": [
        "import torch"
      ],
      "execution_count": 0,
      "outputs": []
    },
    {
      "cell_type": "code",
      "metadata": {
        "id": "x-nBwoDQ4eSE",
        "colab_type": "code",
        "colab": {}
      },
      "source": [
        "def activation(x):\n",
        "  #sigmoid activation function\n",
        "  return 1/(1+torch.exp(-x))"
      ],
      "execution_count": 0,
      "outputs": []
    },
    {
      "cell_type": "code",
      "metadata": {
        "id": "iDGVzfuG4rCV",
        "colab_type": "code",
        "colab": {}
      },
      "source": [
        "torch.manual_seed(7) #set the random seed to make things predictable\n",
        "#features are 5 random normal variables\n",
        "features = torch.randn((1,5)) # 1 row and 5 columns\n",
        "#similar shape as that of features with normal values\n",
        "weights = torch.randn_like(features)\n",
        "#single bias\n",
        "bias = torch.randn((1,1))"
      ],
      "execution_count": 0,
      "outputs": []
    },
    {
      "cell_type": "code",
      "metadata": {
        "id": "JmA3o8Zs6Rnz",
        "colab_type": "code",
        "colab": {}
      },
      "source": [
        "#first method-using torch.sum or alternatively .sum() method\n",
        "def output(features,weights,bias):\n",
        "  return activation(torch.sum(features*weights)+bias)"
      ],
      "execution_count": 0,
      "outputs": []
    },
    {
      "cell_type": "code",
      "metadata": {
        "id": "KmWmOAeO8OwP",
        "colab_type": "code",
        "colab": {
          "base_uri": "https://localhost:8080/",
          "height": 34
        },
        "outputId": "d215eee7-94ae-4861-fd18-3856c50ff361"
      },
      "source": [
        "output(features,weights,bias)"
      ],
      "execution_count": 6,
      "outputs": [
        {
          "output_type": "execute_result",
          "data": {
            "text/plain": [
              "tensor([[0.1595]])"
            ]
          },
          "metadata": {
            "tags": []
          },
          "execution_count": 6
        }
      ]
    },
    {
      "cell_type": "code",
      "metadata": {
        "id": "5j46bUpW9mTP",
        "colab_type": "code",
        "colab": {}
      },
      "source": [
        "#perform matrix multiplication to obtain output = just another method!\n",
        "def mat_mul(features,weights,bias):\n",
        "  return activation(torch.mm(features,weights.reshape(5,1))+bias)\n",
        "  #we can alternatively use weights.view(5,1)"
      ],
      "execution_count": 0,
      "outputs": []
    },
    {
      "cell_type": "code",
      "metadata": {
        "id": "3st3x7u1-AT0",
        "colab_type": "code",
        "colab": {
          "base_uri": "https://localhost:8080/",
          "height": 34
        },
        "outputId": "5e7135dc-b777-496a-d413-1eb2bea2dc06"
      },
      "source": [
        "mat_mul(features,weights,bias)"
      ],
      "execution_count": 8,
      "outputs": [
        {
          "output_type": "execute_result",
          "data": {
            "text/plain": [
              "tensor([[0.1595]])"
            ]
          },
          "metadata": {
            "tags": []
          },
          "execution_count": 8
        }
      ]
    }
  ]
}