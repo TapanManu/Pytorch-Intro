{
  "nbformat": 4,
  "nbformat_minor": 0,
  "metadata": {
    "colab": {
      "name": "Multi-Layered.ipynb",
      "provenance": [],
      "authorship_tag": "ABX9TyNIF2gqJdZilydTCIhqrZp4",
      "include_colab_link": true
    },
    "kernelspec": {
      "name": "python3",
      "display_name": "Python 3"
    }
  },
  "cells": [
    {
      "cell_type": "markdown",
      "metadata": {
        "id": "view-in-github",
        "colab_type": "text"
      },
      "source": [
        "<a href=\"https://colab.research.google.com/github/TapanManu/Pytorch-Repo/blob/master/Multi_Layered.ipynb\" target=\"_parent\"><img src=\"https://colab.research.google.com/assets/colab-badge.svg\" alt=\"Open In Colab\"/></a>"
      ]
    },
    {
      "cell_type": "code",
      "metadata": {
        "id": "dH2-CxW-Be38",
        "colab_type": "code",
        "colab": {}
      },
      "source": [
        "import torch"
      ],
      "execution_count": 0,
      "outputs": []
    },
    {
      "cell_type": "code",
      "metadata": {
        "id": "Fm_IsGUoBmUH",
        "colab_type": "code",
        "colab": {}
      },
      "source": [
        "def activation(x):\n",
        "  return 1/(1+torch.exp(-x))"
      ],
      "execution_count": 0,
      "outputs": []
    },
    {
      "cell_type": "code",
      "metadata": {
        "id": "zjqMyKNsBtOa",
        "colab_type": "code",
        "colab": {}
      },
      "source": [
        "torch.manual_seed(7)\n",
        "inputs = torch.randn((1,3))\n",
        "#setting features for input variables\n",
        "n_hidden = 2\n",
        "n_output = 1\n",
        "input_size = inputs.shape[1]\n",
        "\n",
        "'''\n",
        "  We are constructing a 3 input ,1 hidden layer with 2 units,1 Output unit\n",
        "  '''\n",
        "\n",
        "#defining weight matrices =  2 weight matrices \n",
        "W1 = torch.randn((input_size,n_hidden))\n",
        "W2 = torch.randn((n_hidden,n_output))\n",
        "\n",
        "#Here Bias Matrix is a 1x2 matrix in first layer \n",
        "# two units are there in hidden layer\n",
        "#last one is 1x1 matrix\n",
        "B1 = torch.randn((1,n_hidden))\n",
        "B2 = torch.randn((1,n_output))"
      ],
      "execution_count": 0,
      "outputs": []
    },
    {
      "cell_type": "code",
      "metadata": {
        "id": "Gf_YgjRNEqFL",
        "colab_type": "code",
        "colab": {}
      },
      "source": [
        "def multilayer_neural_net(features,weights,bias):\n",
        "  h = activation(torch.mm(features,weights[0])+bias[0])\n",
        "  output = activation(torch.mm(h,weights[1])+ bias[1])\n",
        "  return output"
      ],
      "execution_count": 0,
      "outputs": []
    },
    {
      "cell_type": "code",
      "metadata": {
        "id": "SdGkrHJbGnQi",
        "colab_type": "code",
        "colab": {
          "base_uri": "https://localhost:8080/",
          "height": 34
        },
        "outputId": "6177786b-7c4f-4958-924a-34536624623b"
      },
      "source": [
        "multilayer_neural_net(inputs,[W1,W2],[B1,B2])"
      ],
      "execution_count": 15,
      "outputs": [
        {
          "output_type": "execute_result",
          "data": {
            "text/plain": [
              "tensor([[0.3171]])"
            ]
          },
          "metadata": {
            "tags": []
          },
          "execution_count": 15
        }
      ]
    }
  ]
}