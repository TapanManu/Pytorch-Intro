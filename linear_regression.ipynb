{
  "nbformat": 4,
  "nbformat_minor": 0,
  "metadata": {
    "colab": {
      "name": "lreg.ipynb",
      "provenance": [],
      "collapsed_sections": [],
      "include_colab_link": true
    },
    "kernelspec": {
      "name": "python3",
      "display_name": "Python 3"
    }
  },
  "cells": [
    {
      "cell_type": "markdown",
      "metadata": {
        "id": "view-in-github",
        "colab_type": "text"
      },
      "source": [
        "<a href=\"https://colab.research.google.com/github/TapanManu/Pytorch-Intro/blob/master/linear_regression.ipynb\" target=\"_parent\"><img src=\"https://colab.research.google.com/assets/colab-badge.svg\" alt=\"Open In Colab\"/></a>"
      ]
    },
    {
      "cell_type": "code",
      "metadata": {
        "id": "-12__-DMX1zU",
        "colab_type": "code",
        "colab": {}
      },
      "source": [
        "import numpy as np\n",
        "import torch"
      ],
      "execution_count": 0,
      "outputs": []
    },
    {
      "cell_type": "code",
      "metadata": {
        "id": "HojAROnkaGFp",
        "colab_type": "code",
        "colab": {}
      },
      "source": [
        "#input(temp,rainfall,humidity)\n",
        "inputs=np.array([[73,67,43],\n",
        "                [91,88,64],\n",
        "                [87,134,58],\n",
        "                [102,43,37],\n",
        "                [69,96,70]],dtype='float32')"
      ],
      "execution_count": 0,
      "outputs": []
    },
    {
      "cell_type": "code",
      "metadata": {
        "id": "8xBGMNwVawnd",
        "colab_type": "code",
        "colab": {}
      },
      "source": [
        "#target(apples,oranges)\n",
        "targets=np.array([[56,70],\n",
        "                 [81,101],\n",
        "                 [119,133],\n",
        "                  [22,37],\n",
        "                  [103,119]],dtype='float32')"
      ],
      "execution_count": 0,
      "outputs": []
    },
    {
      "cell_type": "code",
      "metadata": {
        "id": "MFGWpcPKbP6u",
        "colab_type": "code",
        "outputId": "188cc88a-9727-46f6-90e0-130c29341054",
        "colab": {
          "base_uri": "https://localhost:8080/",
          "height": 191
        }
      },
      "source": [
        "input=torch.from_numpy(inputs)\n",
        "target=torch.from_numpy(targets)\n",
        "print (input)\n",
        "print (target)"
      ],
      "execution_count": 0,
      "outputs": [
        {
          "output_type": "stream",
          "text": [
            "tensor([[ 73.,  67.,  43.],\n",
            "        [ 91.,  88.,  64.],\n",
            "        [ 87., 134.,  58.],\n",
            "        [102.,  43.,  37.],\n",
            "        [ 69.,  96.,  70.]])\n",
            "tensor([[ 56.,  70.],\n",
            "        [ 81., 101.],\n",
            "        [119., 133.],\n",
            "        [ 22.,  37.],\n",
            "        [103., 119.]])\n"
          ],
          "name": "stdout"
        }
      ]
    },
    {
      "cell_type": "code",
      "metadata": {
        "id": "6xNeN4uyb4JI",
        "colab_type": "code",
        "outputId": "9333fa44-e9d1-4a0e-ac16-437c17a89d60",
        "colab": {
          "base_uri": "https://localhost:8080/",
          "height": 69
        }
      },
      "source": [
        "#randomly generating weights w and biases b\n",
        "#w=[[w11,w12,w13],[w21,w22,w23]]\n",
        "#b=[b1,b2]\n",
        "#making predictive models\n",
        "#apples=w11*temp+w12*rainfall+w13*humidity+b1\n",
        "#oranges=w21*temp+w22*rainfall+w23*humidity+b2\n",
        "w=torch.randn(2,3,requires_grad=True)\n",
        "b=torch.randn(2,requires_grad=True)\n",
        "print(w)\n",
        "print(b)"
      ],
      "execution_count": 0,
      "outputs": [
        {
          "output_type": "stream",
          "text": [
            "tensor([[ 0.2538, -0.8042,  0.0013],\n",
            "        [ 0.1547, -1.2781, -0.4894]], requires_grad=True)\n",
            "tensor([-2.0087, -0.3845], requires_grad=True)\n"
          ],
          "name": "stdout"
        }
      ]
    },
    {
      "cell_type": "code",
      "metadata": {
        "id": "Wtw14sDbdEkh",
        "colab_type": "code",
        "colab": {}
      },
      "source": [
        "def model(x):\n",
        "  return x @ w.t()+b"
      ],
      "execution_count": 0,
      "outputs": []
    },
    {
      "cell_type": "code",
      "metadata": {
        "id": "K7LgBn9ZeayQ",
        "colab_type": "code",
        "outputId": "be7822e2-8b05-4b17-b7e1-a5d74048c5d5",
        "colab": {
          "base_uri": "https://localhost:8080/",
          "height": 104
        }
      },
      "source": [
        "#generate predictions\n",
        "preds=model(input)\n",
        "print(preds)"
      ],
      "execution_count": 0,
      "outputs": [
        {
          "output_type": "stream",
          "text": [
            "tensor([[ -37.3060,  -95.7726],\n",
            "        [ -49.5981, -130.1071],\n",
            "        [ -87.6167, -186.5841],\n",
            "        [ -10.6511,  -57.6741],\n",
            "        [ -61.6082, -146.6723]], grad_fn=<AddBackward0>)\n"
          ],
          "name": "stdout"
        }
      ]
    },
    {
      "cell_type": "code",
      "metadata": {
        "id": "VWyS1T_EM4em",
        "colab_type": "code",
        "outputId": "33c6c85f-8346-4433-8d2c-19fd918d1943",
        "colab": {
          "base_uri": "https://localhost:8080/",
          "height": 104
        }
      },
      "source": [
        "print(target)"
      ],
      "execution_count": 0,
      "outputs": [
        {
          "output_type": "stream",
          "text": [
            "tensor([[ 56.,  70.],\n",
            "        [ 81., 101.],\n",
            "        [119., 133.],\n",
            "        [ 22.,  37.],\n",
            "        [103., 119.]])\n"
          ],
          "name": "stdout"
        }
      ]
    },
    {
      "cell_type": "code",
      "metadata": {
        "id": "cAwivx2eOWzZ",
        "colab_type": "code",
        "colab": {}
      },
      "source": [
        "def mse(t1,t2):\n",
        "  diff=t1-t2\n",
        "  return torch.sum(diff*diff)/diff.numel()"
      ],
      "execution_count": 0,
      "outputs": []
    },
    {
      "cell_type": "code",
      "metadata": {
        "id": "pRwQEWr9PXKT",
        "colab_type": "code",
        "outputId": "7d9589aa-5f3a-461c-b941-c2c3a9297cf5",
        "colab": {
          "base_uri": "https://localhost:8080/",
          "height": 34
        }
      },
      "source": [
        "#calculate loss\n",
        "loss=mse(preds,target)\n",
        "print(loss)"
      ],
      "execution_count": 0,
      "outputs": [
        {
          "output_type": "stream",
          "text": [
            "tensor(35918.4297, grad_fn=<DivBackward0>)\n"
          ],
          "name": "stdout"
        }
      ]
    },
    {
      "cell_type": "code",
      "metadata": {
        "id": "6cUiuuLsPe4z",
        "colab_type": "code",
        "colab": {}
      },
      "source": [
        "loss.backward()"
      ],
      "execution_count": 0,
      "outputs": []
    },
    {
      "cell_type": "code",
      "metadata": {
        "id": "59pNdz9ZPuYm",
        "colab_type": "code",
        "outputId": "e75d2a01-10c3-4e6c-e460-b8d9ee0c8276",
        "colab": {
          "base_uri": "https://localhost:8080/",
          "height": 86
        }
      },
      "source": [
        "print(w)\n",
        "print(w.grad)"
      ],
      "execution_count": 0,
      "outputs": [
        {
          "output_type": "stream",
          "text": [
            "tensor([[ 0.2538, -0.8042,  0.0013],\n",
            "        [ 0.1547, -1.2781, -0.4894]], requires_grad=True)\n",
            "tensor([[-10271.9600, -12527.4326,  -7416.9746],\n",
            "        [-17784.8223, -20768.7969, -12510.9922]])\n"
          ],
          "name": "stdout"
        }
      ]
    },
    {
      "cell_type": "code",
      "metadata": {
        "id": "lniMxlglR1aF",
        "colab_type": "code",
        "colab": {}
      },
      "source": [
        "#adjust weights and gradients\n",
        "with torch.no_grad():\n",
        "  w-=w.grad * 1e-5\n",
        "  b-=b.grad * 1e-5\n",
        "  w.grad.zero_()\n",
        "  b.grad.zero_()\n",
        "  "
      ],
      "execution_count": 0,
      "outputs": []
    },
    {
      "cell_type": "code",
      "metadata": {
        "id": "LOs-MP9DUkeT",
        "colab_type": "code",
        "outputId": "ab8d4d26-8f6f-42b8-94d1-e6e1ad1fb6dc",
        "colab": {
          "base_uri": "https://localhost:8080/",
          "height": 69
        }
      },
      "source": [
        "print(w)\n",
        "print(b)"
      ],
      "execution_count": 0,
      "outputs": [
        {
          "output_type": "stream",
          "text": [
            "tensor([[ 0.3565, -0.6790,  0.0755],\n",
            "        [ 0.3326, -1.0705, -0.3643]], requires_grad=True)\n",
            "tensor([-2.0075, -0.3824], requires_grad=True)\n"
          ],
          "name": "stdout"
        }
      ]
    },
    {
      "cell_type": "code",
      "metadata": {
        "id": "0-aBgDJDVmv9",
        "colab_type": "code",
        "outputId": "3640ea20-46d1-40ab-90df-5f49823c3c1e",
        "colab": {
          "base_uri": "https://localhost:8080/",
          "height": 34
        }
      },
      "source": [
        "preds=model(input)\n",
        "loss=mse(preds,target)\n",
        "print(loss)"
      ],
      "execution_count": 0,
      "outputs": [
        {
          "output_type": "stream",
          "text": [
            "tensor(24793.4746, grad_fn=<DivBackward0>)\n"
          ],
          "name": "stdout"
        }
      ]
    },
    {
      "cell_type": "code",
      "metadata": {
        "id": "OrjufVHKWDDu",
        "colab_type": "code",
        "colab": {}
      },
      "source": [
        "#train for 100 epochs\n",
        "for i in range(100):\n",
        "  preds=model(input)\n",
        "  loss=mse(preds,target)\n",
        "  loss.backward()\n",
        "  with torch.no_grad():\n",
        "    w-=w.grad * 1e-5\n",
        "    b-=b.grad * 1e-5\n",
        "    w.grad.zero_()\n",
        "    b.grad.zero_()\n",
        "  "
      ],
      "execution_count": 0,
      "outputs": []
    },
    {
      "cell_type": "code",
      "metadata": {
        "id": "opgvzbpbWugn",
        "colab_type": "code",
        "outputId": "507b44c8-b613-41ca-f060-2a5e5450d1b9",
        "colab": {
          "base_uri": "https://localhost:8080/",
          "height": 34
        }
      },
      "source": [
        "print(loss)"
      ],
      "execution_count": 0,
      "outputs": [
        {
          "output_type": "stream",
          "text": [
            "tensor(0.5717, grad_fn=<DivBackward0>)\n"
          ],
          "name": "stdout"
        }
      ]
    },
    {
      "cell_type": "code",
      "metadata": {
        "id": "ydhQt0kJXa9v",
        "colab_type": "code",
        "outputId": "41cfdea2-da35-402e-8982-5c4022e9b175",
        "colab": {
          "base_uri": "https://localhost:8080/",
          "height": 104
        }
      },
      "source": [
        "print(target)"
      ],
      "execution_count": 0,
      "outputs": [
        {
          "output_type": "stream",
          "text": [
            "tensor([[ 56.,  70.],\n",
            "        [ 81., 101.],\n",
            "        [119., 133.],\n",
            "        [ 22.,  37.],\n",
            "        [103., 119.]])\n"
          ],
          "name": "stdout"
        }
      ]
    },
    {
      "cell_type": "code",
      "metadata": {
        "id": "zzreThFCXpg3",
        "colab_type": "code",
        "outputId": "f0cc57c2-37d1-44a6-ca20-be2b499eb951",
        "colab": {
          "base_uri": "https://localhost:8080/",
          "height": 104
        }
      },
      "source": [
        "print(preds)"
      ],
      "execution_count": 0,
      "outputs": [
        {
          "output_type": "stream",
          "text": [
            "tensor([[ 56.8376,  70.2765],\n",
            "        [ 82.3424, 100.4490],\n",
            "        [118.9050, 133.5125],\n",
            "        [ 21.1680,  37.1756],\n",
            "        [101.7094, 118.5846]], grad_fn=<AddBackward0>)\n"
          ],
          "name": "stdout"
        }
      ]
    },
    {
      "cell_type": "code",
      "metadata": {
        "id": "go-zfOPFfHB1",
        "colab_type": "code",
        "colab": {}
      },
      "source": [
        "import torch.nn as nn"
      ],
      "execution_count": 0,
      "outputs": []
    },
    {
      "cell_type": "code",
      "metadata": {
        "id": "yQ9oEQV2fPIz",
        "colab_type": "code",
        "colab": {}
      },
      "source": [
        "inputs=np.array([[73,67,43],\n",
        "                [91,88,64],\n",
        "                [87,134,58],\n",
        "                [102,43,37],\n",
        "                [69,96,70]],dtype='float32')\n",
        "targets=np.array([[56,70],\n",
        "                 [81,101],\n",
        "                 [119,133],\n",
        "                  [22,37],\n",
        "                  [103,119]],dtype='float32')"
      ],
      "execution_count": 0,
      "outputs": []
    },
    {
      "cell_type": "code",
      "metadata": {
        "id": "ChocVCC5f3Z3",
        "colab_type": "code",
        "colab": {}
      },
      "source": [
        "inputs=torch.from_numpy(inputs)\n",
        "targets=torch.from_numpy(targets)"
      ],
      "execution_count": 0,
      "outputs": []
    },
    {
      "cell_type": "code",
      "metadata": {
        "id": "ijVE2XkrgNut",
        "colab_type": "code",
        "colab": {}
      },
      "source": [
        "from torch.utils.data import TensorDataset"
      ],
      "execution_count": 0,
      "outputs": []
    },
    {
      "cell_type": "code",
      "metadata": {
        "id": "G1So9-JGgfIc",
        "colab_type": "code",
        "outputId": "90be9d03-7111-496e-d150-2c8d25f2c797",
        "colab": {
          "base_uri": "https://localhost:8080/",
          "height": 104
        }
      },
      "source": [
        "#define datasets\n",
        "train_ds=TensorDataset(inputs,targets)\n",
        "train_ds[0:3]"
      ],
      "execution_count": 0,
      "outputs": [
        {
          "output_type": "execute_result",
          "data": {
            "text/plain": [
              "(tensor([[ 73.,  67.,  43.],\n",
              "         [ 91.,  88.,  64.],\n",
              "         [ 87., 134.,  58.]]), tensor([[ 56.,  70.],\n",
              "         [ 81., 101.],\n",
              "         [119., 133.]]))"
            ]
          },
          "metadata": {
            "tags": []
          },
          "execution_count": 117
        }
      ]
    },
    {
      "cell_type": "code",
      "metadata": {
        "id": "4qZK6pu7hQVR",
        "colab_type": "code",
        "colab": {}
      },
      "source": [
        "from torch.utils.data import DataLoader"
      ],
      "execution_count": 0,
      "outputs": []
    },
    {
      "cell_type": "code",
      "metadata": {
        "id": "hPdizw12hYZr",
        "colab_type": "code",
        "colab": {}
      },
      "source": [
        "#define dataloader\n",
        "batch_size=5\n",
        "train_dl=DataLoader(train_ds,batch_size,shuffle=True)"
      ],
      "execution_count": 0,
      "outputs": []
    },
    {
      "cell_type": "code",
      "metadata": {
        "id": "JuhlDeqIhzhb",
        "colab_type": "code",
        "outputId": "d5b0a918-b2f3-4ee1-bc07-fa6f01c69fd0",
        "colab": {
          "base_uri": "https://localhost:8080/",
          "height": 191
        }
      },
      "source": [
        "for xb,yb in train_dl:\n",
        "  print(xb)\n",
        "  print(yb)\n",
        "  break"
      ],
      "execution_count": 0,
      "outputs": [
        {
          "output_type": "stream",
          "text": [
            "tensor([[ 69.,  96.,  70.],\n",
            "        [ 91.,  88.,  64.],\n",
            "        [102.,  43.,  37.],\n",
            "        [ 73.,  67.,  43.],\n",
            "        [ 87., 134.,  58.]])\n",
            "tensor([[103., 119.],\n",
            "        [ 81., 101.],\n",
            "        [ 22.,  37.],\n",
            "        [ 56.,  70.],\n",
            "        [119., 133.]])\n"
          ],
          "name": "stdout"
        }
      ]
    },
    {
      "cell_type": "code",
      "metadata": {
        "id": "inGuzMemiK7y",
        "colab_type": "code",
        "outputId": "6e712595-4ef5-4089-b511-23e86f3b9810",
        "colab": {
          "base_uri": "https://localhost:8080/",
          "height": 104
        }
      },
      "source": [
        "#define model\n",
        "model=nn.Linear(3,2)\n",
        "print(model.weight)\n",
        "print(model.bias)"
      ],
      "execution_count": 0,
      "outputs": [
        {
          "output_type": "stream",
          "text": [
            "Parameter containing:\n",
            "tensor([[-0.0489, -0.4219, -0.0593],\n",
            "        [ 0.2907,  0.4363, -0.3230]], requires_grad=True)\n",
            "Parameter containing:\n",
            "tensor([ 0.5712, -0.1159], requires_grad=True)\n"
          ],
          "name": "stdout"
        }
      ]
    },
    {
      "cell_type": "code",
      "metadata": {
        "id": "WfD2oQuCinuN",
        "colab_type": "code",
        "outputId": "3a52a084-1a05-48c7-9e76-af0571c2b16f",
        "colab": {
          "base_uri": "https://localhost:8080/",
          "height": 34
        }
      },
      "source": [
        "print(model.parameters())"
      ],
      "execution_count": 0,
      "outputs": [
        {
          "output_type": "stream",
          "text": [
            "<generator object Module.parameters at 0x7f6282b63678>\n"
          ],
          "name": "stdout"
        }
      ]
    },
    {
      "cell_type": "code",
      "metadata": {
        "id": "1lJ7BY-wjJjq",
        "colab_type": "code",
        "colab": {}
      },
      "source": [
        "#import nn.functional\n",
        "import torch.nn.functional as F"
      ],
      "execution_count": 0,
      "outputs": []
    },
    {
      "cell_type": "code",
      "metadata": {
        "id": "wlsKujYXjZ_y",
        "colab_type": "code",
        "colab": {}
      },
      "source": [
        "#define loss function\n",
        "loss_fn=F.mse_loss"
      ],
      "execution_count": 0,
      "outputs": []
    },
    {
      "cell_type": "code",
      "metadata": {
        "id": "f6FrDfiRjnuG",
        "colab_type": "code",
        "outputId": "b0aaf94e-f191-495f-e820-17932d633e61",
        "colab": {
          "base_uri": "https://localhost:8080/",
          "height": 34
        }
      },
      "source": [
        "loss=loss_fn(model(inputs),targets)\n",
        "print (loss)"
      ],
      "execution_count": 0,
      "outputs": [
        {
          "output_type": "stream",
          "text": [
            "tensor(9743.6650, grad_fn=<MseLossBackward>)\n"
          ],
          "name": "stdout"
        }
      ]
    },
    {
      "cell_type": "code",
      "metadata": {
        "id": "hevVj79Lj-Oc",
        "colab_type": "code",
        "colab": {}
      },
      "source": [
        "#define optimizer\n",
        "opt=torch.optim.SGD(model.parameters(),lr=1e-5)"
      ],
      "execution_count": 0,
      "outputs": []
    },
    {
      "cell_type": "code",
      "metadata": {
        "id": "RPehvBLpk2iv",
        "colab_type": "code",
        "colab": {}
      },
      "source": [
        "#utility function to train the model\n",
        "def fit(num_epochs,model,loss_fn,opt):\n",
        "  #repeat for given number of epochs\n",
        "  for epoch in range(num_epochs):\n",
        "    #train with batches of data\n",
        "    for xb,yb in train_dl:\n",
        "      #1.generate predictions\n",
        "      pred=model(xb)\n",
        "      #2.calculate loss\n",
        "      loss=loss_fn(pred,yb)\n",
        "      #3.compute gradients\n",
        "      loss.backward()\n",
        "      #4.update parameters using gradients\n",
        "      opt.step()\n",
        "      #5.reset the gradients to zero\n",
        "      opt.zero_grad()\n",
        "      #print the progress\n",
        "      if(epoch+1)%10==0:\n",
        "        print('Epoch[{}/{}],loss:{:.4f}'.format(epoch+1,num_epochs,loss.item()))\n",
        "      "
      ],
      "execution_count": 0,
      "outputs": []
    },
    {
      "cell_type": "code",
      "metadata": {
        "id": "xWrkU4dWnNdH",
        "colab_type": "code",
        "outputId": "346bc567-b358-4bcf-9283-6fcb7a50040c",
        "colab": {
          "base_uri": "https://localhost:8080/",
          "height": 191
        }
      },
      "source": [
        "fit(100,model,loss_fn,opt)"
      ],
      "execution_count": 0,
      "outputs": [
        {
          "output_type": "stream",
          "text": [
            "Epoch[10/100],loss:0.5414\n",
            "Epoch[20/100],loss:0.5410\n",
            "Epoch[30/100],loss:0.5406\n",
            "Epoch[40/100],loss:0.5403\n",
            "Epoch[50/100],loss:0.5399\n",
            "Epoch[60/100],loss:0.5396\n",
            "Epoch[70/100],loss:0.5392\n",
            "Epoch[80/100],loss:0.5389\n",
            "Epoch[90/100],loss:0.5386\n",
            "Epoch[100/100],loss:0.5383\n"
          ],
          "name": "stdout"
        }
      ]
    },
    {
      "cell_type": "code",
      "metadata": {
        "id": "tnwKMSQFosiK",
        "colab_type": "code",
        "outputId": "d9c74e6b-50f3-4426-9e60-dfc24cbf8dc9",
        "colab": {
          "base_uri": "https://localhost:8080/",
          "height": 191
        }
      },
      "source": [
        "print (preds)\n",
        "print (targets)"
      ],
      "execution_count": 0,
      "outputs": [
        {
          "output_type": "stream",
          "text": [
            "tensor([[ 56.8376,  70.2765],\n",
            "        [ 82.3424, 100.4490],\n",
            "        [118.9050, 133.5125],\n",
            "        [ 21.1680,  37.1756],\n",
            "        [101.7094, 118.5846]], grad_fn=<AddBackward0>)\n",
            "tensor([[ 56.,  70.],\n",
            "        [ 81., 101.],\n",
            "        [119., 133.],\n",
            "        [ 22.,  37.],\n",
            "        [103., 119.]])\n"
          ],
          "name": "stdout"
        }
      ]
    }
  ]
}