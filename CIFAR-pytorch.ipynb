{
  "nbformat": 4,
  "nbformat_minor": 0,
  "metadata": {
    "colab": {
      "name": "image_classification.ipynb",
      "provenance": [],
      "collapsed_sections": [],
      "include_colab_link": true
    },
    "kernelspec": {
      "name": "python3",
      "display_name": "Python 3"
    }
  },
  "cells": [
    {
      "cell_type": "markdown",
      "metadata": {
        "id": "view-in-github",
        "colab_type": "text"
      },
      "source": [
        "<a href=\"https://colab.research.google.com/github/TapanManu/Pytorch-Repo/blob/master/CIFAR-pytorch.ipynb\" target=\"_parent\"><img src=\"https://colab.research.google.com/assets/colab-badge.svg\" alt=\"Open In Colab\"/></a>"
      ]
    },
    {
      "cell_type": "code",
      "metadata": {
        "id": "vHW4KC_Jfs4-",
        "colab_type": "code",
        "colab": {}
      },
      "source": [
        "import torch\n",
        "import torchvision\n",
        "from torchvision.datasets import CIFAR10"
      ],
      "execution_count": 0,
      "outputs": []
    },
    {
      "cell_type": "code",
      "metadata": {
        "id": "DWjwlr-Pg7ag",
        "colab_type": "code",
        "outputId": "51d7c6eb-e2f4-4a6a-c403-2b40d7149ac4",
        "colab": {
          "base_uri": "https://localhost:8080/",
          "height": 52
        }
      },
      "source": [
        "#download datasets from CIFAR10\n",
        "dataset=CIFAR10(root=\"data/\",download=True)"
      ],
      "execution_count": 0,
      "outputs": [
        {
          "output_type": "stream",
          "text": [
            "\r0it [00:00, ?it/s]"
          ],
          "name": "stderr"
        },
        {
          "output_type": "stream",
          "text": [
            "Downloading https://www.cs.toronto.edu/~kriz/cifar-10-python.tar.gz to data/cifar-10-python.tar.gz\n"
          ],
          "name": "stdout"
        },
        {
          "output_type": "stream",
          "text": [
            "170500096it [00:02, 69291231.77it/s]                               \n"
          ],
          "name": "stderr"
        }
      ]
    },
    {
      "cell_type": "code",
      "metadata": {
        "id": "1-39M8BOhT7W",
        "colab_type": "code",
        "outputId": "d640a57b-b4df-4b98-a319-fb1d459abf9f",
        "colab": {
          "base_uri": "https://localhost:8080/",
          "height": 34
        }
      },
      "source": [
        "len(dataset)"
      ],
      "execution_count": 0,
      "outputs": [
        {
          "output_type": "execute_result",
          "data": {
            "text/plain": [
              "50000"
            ]
          },
          "metadata": {
            "tags": []
          },
          "execution_count": 4
        }
      ]
    },
    {
      "cell_type": "code",
      "metadata": {
        "id": "E03QBgTmhXy9",
        "colab_type": "code",
        "outputId": "3222c42b-fb8c-4d9e-b231-50fc532e8a6d",
        "colab": {
          "base_uri": "https://localhost:8080/",
          "height": 34
        }
      },
      "source": [
        "#download  datasets from CIFAR10 which has not been trained\n",
        "test_dataset=CIFAR10(root=\"data/\",train=False)\n",
        "len(test_dataset)"
      ],
      "execution_count": 0,
      "outputs": [
        {
          "output_type": "execute_result",
          "data": {
            "text/plain": [
              "10000"
            ]
          },
          "metadata": {
            "tags": []
          },
          "execution_count": 6
        }
      ]
    },
    {
      "cell_type": "code",
      "metadata": {
        "id": "oOaypo3-hoiM",
        "colab_type": "code",
        "colab": {}
      },
      "source": [
        "import matplotlib.pyplot as plt\n",
        "# to show the pictures within the notebook\n",
        "%matplotlib inline"
      ],
      "execution_count": 0,
      "outputs": []
    },
    {
      "cell_type": "code",
      "metadata": {
        "id": "eO0CLkZziMOY",
        "colab_type": "code",
        "outputId": "806186b8-f71d-4df1-a15a-7b459142ec29",
        "colab": {
          "base_uri": "https://localhost:8080/",
          "height": 34
        }
      },
      "source": [
        "print(dataset[0])"
      ],
      "execution_count": 0,
      "outputs": [
        {
          "output_type": "stream",
          "text": [
            "(<PIL.Image.Image image mode=RGB size=32x32 at 0x7F310A875BA8>, 6)\n"
          ],
          "name": "stdout"
        }
      ]
    },
    {
      "cell_type": "code",
      "metadata": {
        "id": "dmQ0iVq3icll",
        "colab_type": "code",
        "outputId": "3092ad49-7c5f-4cfa-b758-7a5f51ea31e1",
        "colab": {
          "base_uri": "https://localhost:8080/",
          "height": 286
        }
      },
      "source": [
        "image,label=dataset[5]\n",
        "plt.imshow(image)\n",
        "print(\"label:\",label)"
      ],
      "execution_count": 0,
      "outputs": [
        {
          "output_type": "stream",
          "text": [
            "label: 1\n"
          ],
          "name": "stdout"
        },
        {
          "output_type": "display_data",
          "data": {
            "image/png": "[encoded data removed]",
            "text/plain": [
              "<Figure size 432x288 with 1 Axes>"
            ]
          },
          "metadata": {
            "tags": []
          }
        }
      ]
    },
    {
      "cell_type": "code",
      "metadata": {
        "id": "H3GmRNeejsZk",
        "colab_type": "code",
        "colab": {}
      },
      "source": [
        "import torchvision.transforms as transforms\n",
        "import numpy as np"
      ],
      "execution_count": 0,
      "outputs": []
    },
    {
      "cell_type": "code",
      "metadata": {
        "id": "gT3ngOu8j-gk",
        "colab_type": "code",
        "outputId": "2bc9d1bc-c2a4-4fd2-8718-de596ff3b580",
        "colab": {
          "base_uri": "https://localhost:8080/",
          "height": 34
        }
      },
      "source": [
        "dataset=CIFAR10(root=\"data/\",train=True,transform=transforms.ToTensor())\n",
        "image,label=dataset[0]\n",
        "print(image.shape,label)"
      ],
      "execution_count": 0,
      "outputs": [
        {
          "output_type": "stream",
          "text": [
            "torch.Size([3, 32, 32]) 6\n"
          ],
          "name": "stdout"
        }
      ]
    },
    {
      "cell_type": "code",
      "metadata": {
        "id": "Gh12FFznlSoO",
        "colab_type": "code",
        "outputId": "ed0629c5-580a-4ce8-d0e7-f1cb85c45988",
        "colab": {
          "base_uri": "https://localhost:8080/",
          "height": 330
        }
      },
      "source": [
        "print(image[:,10:15,10:15])\n",
        "print(torch.max(image),torch.min(image))"
      ],
      "execution_count": 0,
      "outputs": [
        {
          "output_type": "stream",
          "text": [
            "tensor([[[0.3137, 0.3804, 0.3529, 0.3843, 0.5373],\n",
            "         [0.4353, 0.5725, 0.5333, 0.6392, 0.6627],\n",
            "         [0.5412, 0.8353, 0.6980, 0.7490, 0.8275],\n",
            "         [0.6471, 0.8980, 0.7176, 0.7490, 0.9373],\n",
            "         [0.7529, 0.7255, 0.5686, 0.7961, 0.8745]],\n",
            "\n",
            "        [[0.1569, 0.2078, 0.1765, 0.2196, 0.3569],\n",
            "         [0.2353, 0.3373, 0.3059, 0.4549, 0.4510],\n",
            "         [0.3098, 0.5882, 0.4824, 0.5882, 0.6627],\n",
            "         [0.4157, 0.6902, 0.5373, 0.6196, 0.8471],\n",
            "         [0.5961, 0.5804, 0.3961, 0.6353, 0.7843]],\n",
            "\n",
            "        [[0.0510, 0.0667, 0.0667, 0.1176, 0.2235],\n",
            "         [0.0549, 0.0863, 0.0902, 0.3020, 0.2706],\n",
            "         [0.0745, 0.2314, 0.1608, 0.3843, 0.4784],\n",
            "         [0.1961, 0.3608, 0.2235, 0.4039, 0.6902],\n",
            "         [0.4431, 0.4196, 0.2000, 0.4745, 0.6667]]])\n",
            "tensor(1.) tensor(0.)\n"
          ],
          "name": "stdout"
        }
      ]
    },
    {
      "cell_type": "code",
      "metadata": {
        "id": "umuvQKvTml19",
        "colab_type": "code",
        "outputId": "c76eca73-62b1-4ea3-a802-1cce6cf39384",
        "colab": {
          "base_uri": "https://localhost:8080/",
          "height": 286
        }
      },
      "source": [
        "plt.imshow(image[0],cmap=\"gray\")"
      ],
      "execution_count": 0,
      "outputs": [
        {
          "output_type": "execute_result",
          "data": {
            "text/plain": [
              "<matplotlib.image.AxesImage at 0x7f3108285d30>"
            ]
          },
          "metadata": {
            "tags": []
          },
          "execution_count": 45
        },
        {
          "output_type": "display_data",
          "data": {
            "image/png": "[encoded data removed]",
            "text/plain": [
              "<Figure size 432x288 with 1 Axes>"
            ]
          },
          "metadata": {
            "tags": []
          }
        }
      ]
    },
    {
      "cell_type": "code",
      "metadata": {
        "id": "y6yx9Cm8nPUf",
        "colab_type": "code",
        "colab": {}
      },
      "source": [
        "def seperate_indices(n,val_pct):\n",
        "  n_val=int(n*val_pct)\n",
        "  idxs=np.random.permutation(n)\n",
        "  return idxs[n_val:],idxs[:n_val]"
      ],
      "execution_count": 0,
      "outputs": []
    },
    {
      "cell_type": "code",
      "metadata": {
        "id": "UdHvsqn7n8YZ",
        "colab_type": "code",
        "outputId": "a8db76a2-197e-4a1c-89cb-a38439fb3159",
        "colab": {
          "base_uri": "https://localhost:8080/",
          "height": 34
        }
      },
      "source": [
        "train_indices,val_indices=seperate_indices(len(dataset),val_pct=0.2)\n",
        "print(len(train_indices),len(val_indices))"
      ],
      "execution_count": 0,
      "outputs": [
        {
          "output_type": "stream",
          "text": [
            "40000 10000\n"
          ],
          "name": "stdout"
        }
      ]
    },
    {
      "cell_type": "code",
      "metadata": {
        "id": "WBM0FwGvo09G",
        "colab_type": "code",
        "colab": {}
      },
      "source": [
        "from torch.utils.data.sampler import SubsetRandomSampler\n",
        "from torch.utils.data.dataloader import DataLoader\n",
        "import torch.nn as nn"
      ],
      "execution_count": 0,
      "outputs": []
    },
    {
      "cell_type": "code",
      "metadata": {
        "id": "T_j3evgUpRst",
        "colab_type": "code",
        "colab": {}
      },
      "source": [
        "train_sampler=SubsetRandomSampler(train_indices)\n",
        "train_loader=DataLoader(dataset,100,train_sampler)\n",
        "val_sampler=SubsetRandomSampler(val_indices)\n",
        "val_loader=DataLoader(dataset,100,val_sampler)"
      ],
      "execution_count": 0,
      "outputs": []
    },
    {
      "cell_type": "code",
      "metadata": {
        "id": "4Dwo0IVcqpUL",
        "colab_type": "code",
        "outputId": "cd2c055b-d4ac-495c-938c-1785d26216bc",
        "colab": {
          "base_uri": "https://localhost:8080/",
          "height": 347
        }
      },
      "source": [
        "model=nn.Linear(32*32*3,10)\n",
        "print(model.weight.shape)\n",
        "print(model.bias.shape)\n",
        "print(model.weight)\n",
        "print(model.bias)"
      ],
      "execution_count": 0,
      "outputs": [
        {
          "output_type": "stream",
          "text": [
            "torch.Size([10, 3072])\n",
            "torch.Size([10])\n",
            "Parameter containing:\n",
            "tensor([[ 8.4234e-03,  1.0363e-02,  1.1638e-02,  ...,  4.1362e-03,\n",
            "         -1.3476e-02,  1.1923e-02],\n",
            "        [ 5.6978e-05, -1.0583e-02,  7.9200e-03,  ..., -5.8348e-03,\n",
            "         -2.4771e-03,  6.8724e-03],\n",
            "        [-4.5802e-03, -1.2151e-02,  1.1599e-03,  ...,  3.8237e-04,\n",
            "         -1.3881e-02,  5.9072e-03],\n",
            "        ...,\n",
            "        [ 1.0638e-02,  2.0621e-04, -9.2327e-03,  ...,  1.5053e-02,\n",
            "         -1.6251e-02, -9.1603e-03],\n",
            "        [-1.7120e-02, -1.4528e-02, -6.8906e-03,  ...,  7.5107e-04,\n",
            "          4.8831e-03,  1.7157e-02],\n",
            "        [-9.2682e-03,  4.9069e-03,  6.3059e-03,  ...,  7.5082e-03,\n",
            "          1.6533e-02,  9.3378e-03]], requires_grad=True)\n",
            "Parameter containing:\n",
            "tensor([ 0.0099,  0.0128,  0.0001, -0.0158,  0.0012, -0.0075,  0.0115, -0.0032,\n",
            "        -0.0076, -0.0060], requires_grad=True)\n"
          ],
          "name": "stdout"
        }
      ]
    },
    {
      "cell_type": "code",
      "metadata": {
        "id": "05-cXvVjseBO",
        "colab_type": "code",
        "colab": {}
      },
      "source": [
        "class CIFARModel(nn.Module):\n",
        "  def __init__(self):\n",
        "    super().__init__()\n",
        "    self.linear=nn.Linear(32*32*3,10)\n",
        "  def forward(self,xb):\n",
        "    xb=xb.reshape(-1,3072)\n",
        "    out=self.linear(xb)\n",
        "    return out\n",
        "model=CIFARModel()\n",
        "    "
      ],
      "execution_count": 0,
      "outputs": []
    },
    {
      "cell_type": "code",
      "metadata": {
        "id": "1Pk_mx2OuyrS",
        "colab_type": "code",
        "colab": {}
      },
      "source": [
        "for images,labels in train_loader:\n",
        "  outputs=model(images)\n",
        "  break"
      ],
      "execution_count": 0,
      "outputs": []
    },
    {
      "cell_type": "code",
      "metadata": {
        "id": "POJ8F008vN2f",
        "colab_type": "code",
        "outputId": "cc0aa5a1-5794-4093-b356-f94243d6c661",
        "colab": {
          "base_uri": "https://localhost:8080/",
          "height": 69
        }
      },
      "source": [
        "print(\"outputs.shape:\",outputs.shape)\n",
        "print(labels.shape)\n",
        "print(label)"
      ],
      "execution_count": 0,
      "outputs": [
        {
          "output_type": "stream",
          "text": [
            "outputs.shape: torch.Size([100, 10])\n",
            "torch.Size([100])\n",
            "6\n"
          ],
          "name": "stdout"
        }
      ]
    },
    {
      "cell_type": "code",
      "metadata": {
        "id": "7J9QVMyPvbUA",
        "colab_type": "code",
        "outputId": "902b56e7-4849-4d30-efad-567437362c94",
        "colab": {
          "base_uri": "https://localhost:8080/",
          "height": 34
        }
      },
      "source": [
        "import torch.nn.functional as F\n",
        "probs=F.softmax(outputs,dim=1)\n",
        "print(\"sum:\",torch.sum(probs[0]).item())"
      ],
      "execution_count": 0,
      "outputs": [
        {
          "output_type": "stream",
          "text": [
            "sum: 1.0\n"
          ],
          "name": "stdout"
        }
      ]
    },
    {
      "cell_type": "code",
      "metadata": {
        "id": "53hQQjg6v5-O",
        "colab_type": "code",
        "outputId": "e4c290ee-7bbb-43fc-ed79-ecd515c39dde",
        "colab": {
          "base_uri": "https://localhost:8080/",
          "height": 312
        }
      },
      "source": [
        "max_probs,preds=torch.max(probs,dim=1)\n",
        "print(preds)\n",
        "print(max_probs)"
      ],
      "execution_count": 0,
      "outputs": [
        {
          "output_type": "stream",
          "text": [
            "tensor([9, 1, 1, 1, 9, 9, 9, 1, 9, 1, 9, 1, 6, 9, 9, 9, 9, 1, 9, 1, 9, 9, 9, 9,\n",
            "        1, 9, 9, 1, 1, 1, 1, 1, 1, 9, 9, 1, 9, 9, 1, 6, 6, 1, 1, 9, 3, 9, 6, 9,\n",
            "        9, 9, 9, 6, 9, 1, 9, 9, 1, 9, 1, 9, 1, 4, 1, 9, 9, 1, 1, 1, 6, 9, 1, 3,\n",
            "        1, 9, 6, 1, 9, 1, 1, 1, 9, 1, 9, 1, 9, 9, 9, 1, 1, 9, 1, 9, 9, 1, 6, 1,\n",
            "        1, 9, 9, 9])\n",
            "tensor([0.1524, 0.1620, 0.1463, 0.1845, 0.1323, 0.1489, 0.1204, 0.1517, 0.1266,\n",
            "        0.1747, 0.1327, 0.1535, 0.1429, 0.1474, 0.1442, 0.1481, 0.1661, 0.1608,\n",
            "        0.1569, 0.1304, 0.1513, 0.1630, 0.1554, 0.1363, 0.1442, 0.1420, 0.1349,\n",
            "        0.1477, 0.1503, 0.1936, 0.1234, 0.1689, 0.1623, 0.1496, 0.1530, 0.1742,\n",
            "        0.1392, 0.1676, 0.1246, 0.1388, 0.1464, 0.1425, 0.1669, 0.1744, 0.1126,\n",
            "        0.1338, 0.1200, 0.1232, 0.1679, 0.1279, 0.1489, 0.1328, 0.1622, 0.1609,\n",
            "        0.1525, 0.1632, 0.1425, 0.1613, 0.1418, 0.1477, 0.1723, 0.1153, 0.1751,\n",
            "        0.1451, 0.1184, 0.1460, 0.1480, 0.1652, 0.1429, 0.1641, 0.1368, 0.1309,\n",
            "        0.1514, 0.1167, 0.1500, 0.2090, 0.1260, 0.1652, 0.1598, 0.1265, 0.1251,\n",
            "        0.1503, 0.1348, 0.1784, 0.1640, 0.1439, 0.1688, 0.1599, 0.1388, 0.1459,\n",
            "        0.1394, 0.1299, 0.1494, 0.1576, 0.1263, 0.1894, 0.1394, 0.1619, 0.1267,\n",
            "        0.1493], grad_fn=<MaxBackward0>)\n"
          ],
          "name": "stdout"
        }
      ]
    },
    {
      "cell_type": "code",
      "metadata": {
        "id": "YbuT0zHFwT7e",
        "colab_type": "code",
        "outputId": "8a903b94-024d-450e-d555-0b99af20c670",
        "colab": {
          "base_uri": "https://localhost:8080/",
          "height": 104
        }
      },
      "source": [
        "print(labels)"
      ],
      "execution_count": 0,
      "outputs": [
        {
          "output_type": "stream",
          "text": [
            "tensor([6, 0, 1, 1, 7, 9, 6, 8, 4, 9, 6, 2, 7, 9, 5, 2, 2, 8, 7, 6, 8, 1, 4, 2,\n",
            "        8, 7, 2, 0, 1, 9, 7, 8, 3, 8, 4, 1, 7, 1, 1, 7, 5, 5, 9, 9, 0, 4, 0, 3,\n",
            "        8, 3, 8, 4, 9, 9, 2, 7, 1, 9, 4, 6, 4, 4, 0, 2, 2, 4, 8, 2, 0, 3, 1, 4,\n",
            "        2, 6, 5, 1, 7, 1, 3, 0, 6, 2, 4, 8, 3, 5, 0, 1, 1, 5, 8, 6, 4, 6, 4, 9,\n",
            "        8, 3, 6, 6])\n"
          ],
          "name": "stdout"
        }
      ]
    },
    {
      "cell_type": "code",
      "metadata": {
        "id": "1_HLflTbwaHD",
        "colab_type": "code",
        "outputId": "b9dfaca4-ef52-4129-bd0c-8183f632f2b7",
        "colab": {
          "base_uri": "https://localhost:8080/",
          "height": 34
        }
      },
      "source": [
        "loss_fn=F.cross_entropy\n",
        "loss=loss_fn(outputs,labels)\n",
        "print(loss)"
      ],
      "execution_count": 0,
      "outputs": [
        {
          "output_type": "stream",
          "text": [
            "tensor(2.3003, grad_fn=<NllLossBackward>)\n"
          ],
          "name": "stdout"
        }
      ]
    },
    {
      "cell_type": "code",
      "metadata": {
        "id": "7FmOjyGYy_-p",
        "colab_type": "code",
        "colab": {}
      },
      "source": [
        "optimizer=torch.optim.SGD(model.parameters(),lr=0.01)"
      ],
      "execution_count": 0,
      "outputs": []
    },
    {
      "cell_type": "code",
      "metadata": {
        "id": "pqJDcYbZzIZ2",
        "colab_type": "code",
        "colab": {}
      },
      "source": [
        "def loss_batch(model,loss_fn,xb,yb,opt=None,metric=None):\n",
        "  preds=model(xb)\n",
        "  loss=loss_fn(preds,yb)\n",
        "  if opt is not None:\n",
        "    loss.backward()\n",
        "    opt.step()\n",
        "    opt.zero_grad()\n",
        "  metric_result=None\n",
        "  if metric is not None:\n",
        "    metric_result=metric(preds,yb)\n",
        "    \n",
        "  return loss.item(),len(xb),metric_result  \n",
        "    "
      ],
      "execution_count": 0,
      "outputs": []
    },
    {
      "cell_type": "code",
      "metadata": {
        "id": "0RSppGEf0ISt",
        "colab_type": "code",
        "colab": {}
      },
      "source": [
        "def evaluate(model,loss_fn,valid_dl,metric=None):\n",
        "  with torch.no_grad():\n",
        "    #pass each batch through the model\n",
        "    results=[loss_batch(model,loss_fn,xb,yb,metric=metric) for xb,yb in valid_dl]\n",
        "    #seperate losses,counts and metrics\n",
        "    losses,nums,metrics=zip(*results)\n",
        "    #total size of datasets\n",
        "    total=np.sum(nums)\n",
        "    \n",
        "    #avg.loss across batches\n",
        "    avg_loss=np.sum(np.multiply(losses,nums))/total\n",
        "    avg_metric=None\n",
        "    if metric is not None:\n",
        "      #average of metric across batches\n",
        "      avg_metric=np.sum(np.multiply(metrics,nums))/total\n",
        "  return avg_loss,total,avg_metric\n"
      ],
      "execution_count": 0,
      "outputs": []
    },
    {
      "cell_type": "code",
      "metadata": {
        "id": "Af6IGggp0e22",
        "colab_type": "code",
        "colab": {}
      },
      "source": [
        "def accuracy(outputs,labels):\n",
        "  _,preds=torch.max(outputs,dim=1)\n",
        "  return torch.sum(preds==labels).item()/len(preds)"
      ],
      "execution_count": 0,
      "outputs": []
    },
    {
      "cell_type": "code",
      "metadata": {
        "id": "Q39QqT270h2o",
        "colab_type": "code",
        "outputId": "c47e622e-f1ed-47ed-e2b2-a7ec63115155",
        "colab": {
          "base_uri": "https://localhost:8080/",
          "height": 34
        }
      },
      "source": [
        "val_loss,total,val_acc=evaluate(model,loss_fn,val_loader,metric=accuracy)\n",
        "print(\"loss:{:.4f},accuracy:{:.4f}\".format(val_loss,val_acc))"
      ],
      "execution_count": 0,
      "outputs": [
        {
          "output_type": "stream",
          "text": [
            "loss:2.3344,accuracy:0.0851\n"
          ],
          "name": "stdout"
        }
      ]
    },
    {
      "cell_type": "code",
      "metadata": {
        "id": "y5RRRx3l0ruJ",
        "colab_type": "code",
        "colab": {}
      },
      "source": [
        "def fit(epochs,model,loss_fn,opt,train_dl,valid_dl,metric=None):\n",
        "  for epoch in range(epochs):\n",
        "    #training\n",
        "    for xb,yb in train_dl:\n",
        "      loss,_,_=loss_batch(model,loss_fn,xb,yb,opt)\n",
        "    #evaluation\n",
        "    result=evaluate(model,loss_fn,valid_dl,metric)\n",
        "    val_loss,total,val_metric=result\n",
        "    #print progress\n",
        "    if metric is None:\n",
        "      print('Epoch[{}/{}],loss:{:.4f}'.format(epoch+1,epochs,val_loss))\n",
        "    else:\n",
        "      print('Epoch[{}/{}],loss:{:.4f},{}:{:.4f}'.format(epoch+1,epochs,val_loss,metric.__name__,val_metric))"
      ],
      "execution_count": 0,
      "outputs": []
    },
    {
      "cell_type": "code",
      "metadata": {
        "id": "4klNwSWR0tDA",
        "colab_type": "code",
        "colab": {}
      },
      "source": [
        "model=CIFARModel()\n",
        "optimizer=torch.optim.SGD(model.parameters(),lr=1e-2)"
      ],
      "execution_count": 0,
      "outputs": []
    },
    {
      "cell_type": "code",
      "metadata": {
        "id": "WECAqnMT0zkH",
        "colab_type": "code",
        "outputId": "ac3557f2-19ef-477b-f60c-0358cec30726",
        "colab": {
          "base_uri": "https://localhost:8080/",
          "height": 278
        }
      },
      "source": [
        "fit(15,model,F.cross_entropy,optimizer,train_loader,val_loader,accuracy)"
      ],
      "execution_count": 0,
      "outputs": [
        {
          "output_type": "stream",
          "text": [
            "Epoch[1/15],loss:1.8607,accuracy:0.3623\n",
            "Epoch[2/15],loss:1.8313,accuracy:0.3657\n",
            "Epoch[3/15],loss:1.8105,accuracy:0.3702\n",
            "Epoch[4/15],loss:1.7817,accuracy:0.3846\n",
            "Epoch[5/15],loss:1.7784,accuracy:0.3792\n",
            "Epoch[6/15],loss:1.7611,accuracy:0.3930\n",
            "Epoch[7/15],loss:1.7585,accuracy:0.3892\n",
            "Epoch[8/15],loss:1.7361,accuracy:0.4054\n",
            "Epoch[9/15],loss:1.7480,accuracy:0.3993\n",
            "Epoch[10/15],loss:1.7697,accuracy:0.3865\n",
            "Epoch[11/15],loss:1.7321,accuracy:0.4004\n",
            "Epoch[12/15],loss:1.7398,accuracy:0.3877\n",
            "Epoch[13/15],loss:1.7275,accuracy:0.4034\n",
            "Epoch[14/15],loss:1.7139,accuracy:0.4121\n",
            "Epoch[15/15],loss:1.7191,accuracy:0.4101\n"
          ],
          "name": "stdout"
        }
      ]
    }
  ]
}